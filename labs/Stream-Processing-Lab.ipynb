{
 "cells": [
  {
   "cell_type": "code",
   "execution_count": 1,
   "metadata": {},
   "outputs": [],
   "source": [
    "import boto3\n",
    "import csv\n",
    "import json \n",
    "import time"
   ]
  },
  {
   "cell_type": "markdown",
   "metadata": {},
   "source": [
    "### Creating A Stream"
   ]
  },
  {
   "cell_type": "code",
   "execution_count": 12,
   "metadata": {
    "scrolled": true
   },
   "outputs": [
    {
     "data": {
      "text/plain": [
       "{'ShardId': 'shardId-000000000001',\n",
       " 'HashKeyRange': {'StartingHashKey': '170141183460469231731687303715884105728',\n",
       "  'EndingHashKey': '340282366920938463463374607431768211455'},\n",
       " 'SequenceNumberRange': {'StartingSequenceNumber': '49601660204502860298160762987990152704400035993735921682'}}"
      ]
     },
     "execution_count": 12,
     "metadata": {},
     "output_type": "execute_result"
    }
   ],
   "source": [
    "#Preparing stream source\n",
    "region = 'us-east-2'\n",
    "streamName = 'blossom-data-eng-richmond'\n",
    "\n",
    "#Intialize kinesis client\n",
    "kinesis = boto3.client('kinesis', region_name = region)\n",
    "\n",
    "#List all active client\n",
    "kinesis.list_streams()\n",
    "\n",
    "#Create a new stream and confirm that the stream is active\n",
    "#response = kinesis.create_stream(StreamName = streamName, ShardCount = 2)\n",
    "kinesis.list_streams()\n",
    "stream_description = kinesis.describe_stream(StreamName = streamName)\n",
    "stream_description.keys()\n",
    "stream_description['StreamDescription']['Shards']\n",
    "stream_description['StreamDescription']['Shards'][0]\n",
    "stream_description['StreamDescription']['Shards'][1]"
   ]
  },
  {
   "cell_type": "markdown",
   "metadata": {},
   "source": [
    "### Creating A Producer "
   ]
  },
  {
   "cell_type": "code",
   "execution_count": 19,
   "metadata": {
    "scrolled": true
   },
   "outputs": [],
   "source": [
    "from datetime import datetime\n",
    "from meq_scraper import scrape_meqasa"
   ]
  },
  {
   "cell_type": "code",
   "execution_count": 20,
   "metadata": {},
   "outputs": [],
   "source": [
    "kinesis = boto3.client('kinesis', region_name = 'us-east-2')"
   ]
  },
  {
   "cell_type": "code",
   "execution_count": 21,
   "metadata": {},
   "outputs": [],
   "source": [
    "# A function to 'oroduce' (getdata from meqasa)\n",
    "def get_data(criteria):\n",
    "    data = scrape_meqasa(1) \n",
    "    #The argument 1 is the number of pages.\n",
    "    data = data.head(2)\n",
    "    #Our assumption; first 2 listings are new.\n",
    "    \n",
    "    #We may have some critieria to filter our data. eg 'address = Tema'\n",
    "    if criteria:\n",
    "        data = data.query(criteria)\n",
    "        \n",
    "    #For this exercise, we'll only select these columns\n",
    "    data = data[['property','beds','area','garages','address']]\n",
    "    \n",
    "    return data"
   ]
  },
  {
   "cell_type": "code",
   "execution_count": 33,
   "metadata": {},
   "outputs": [],
   "source": [
    "def listings_producer(steam_name, data):\n",
    "    response = kinesis.put_record(\n",
    "        StreamName = streamName,\n",
    "        Data = data,\n",
    "        PartitionKey = 'blossom'\n",
    "    )\n",
    "    if response['ResponseMetadata']['HTTPStatusCode'] == 200:\n",
    "        print(f\"Records pushed to {streamName} within kinesis\")\n",
    "    else:\n",
    "        print(\"Records not failed to be pushed to kinesis\")\n",
    "        "
   ]
  },
  {
   "cell_type": "code",
   "execution_count": null,
   "metadata": {},
   "outputs": [
    {
     "name": "stdout",
     "output_type": "stream",
     "text": [
      "Scraping page: 1 from Meqasa\n",
      "Records pushed to blossom-data-eng-richmond within kinesis\n",
      "Scraping page: 1 from Meqasa\n",
      "Records pushed to blossom-data-eng-richmond within kinesis\n"
     ]
    }
   ],
   "source": [
    "#Time to run the scraping and pushing every 30 seconds\n",
    "if __name__ == '__main__':\n",
    "    try:\n",
    "        while True:\n",
    "            data = get_data(None)\n",
    "            data = data.to_json()\n",
    "            listings_producer('blossom-data-eng-richmond', data)\n",
    "            time.sleep(10)\n",
    "   \n",
    "    except Exception as e:\n",
    "        print(f\"Writing failed. Exiting gracefully due to {e}\")"
   ]
  },
  {
   "cell_type": "markdown",
   "metadata": {},
   "source": [
    "### Implementing A Consumer"
   ]
  },
  {
   "cell_type": "code",
   "execution_count": 37,
   "metadata": {},
   "outputs": [],
   "source": [
    "import pandas as pd\n",
    "import datetime as dt"
   ]
  },
  {
   "cell_type": "code",
   "execution_count": 38,
   "metadata": {},
   "outputs": [],
   "source": [
    "#Initiatie the kinesis client\n",
    "kinesis = boto3.client('kinesis', region_name = 'us-east-2')"
   ]
  },
  {
   "cell_type": "code",
   "execution_count": 39,
   "metadata": {},
   "outputs": [],
   "source": [
    "#Utility function to get the shard ids\n",
    "def get_shard_iterator(stream_name, shard_id, iterator_type, date):\n",
    "    shard_response = kinesis.get_shard_iterator(\n",
    "        StreamName = stream_name,\n",
    "        ShardId = shard_id,\n",
    "        ShardIteratorType = iterator_type,\n",
    "        Timestamp = date\n",
    "    )\n",
    "    \n",
    "    return shard_response['ShardIterator']"
   ]
  },
  {
   "cell_type": "code",
   "execution_count": null,
   "metadata": {},
   "outputs": [],
   "source": [
    "#We want our listings consumer to connect to kinesis, and then periodically check for new data. (we set this to 5 seconds)\n",
    "def listings_consumer(next_shard_iterator):\n",
    "    start = dt.datetime.now()\n",
    "    finish = start + dt.timedelta(seconds=60)\n",
    "    \n",
    "    #We'll only consume for 60 seconds\n",
    "    while start < finish:\n",
    "        response = kinesis.get_records(\n",
    "            ShardIterator = next_shard_iterator,\n",
    "            Limit = 20\n",
    "        )\n",
    "        \n",
    "        try:\n",
    "            data = response['Records'][0]['Data']\n",
    "            data = json.loads(data)\n",
    "            \n",
    "            df = pd.DataFrame(data)\n",
    "        except IndexError:\n",
    "            #this error only occurs when all records have been consumed so far\n",
    "            print(\"No new records have arrived\")\n",
    "            \n",
    "        #get the next shard iterator ie where next to get data\n",
    "        next_shard_iterator = response['NextShardIterator']\n",
    "        \n",
    "        #pause checking for new data every 5 seconds.\n",
    "        time.sleep(5)\n",
    "\n",
    "if __name__ == '__main__':\n",
    "    stream_name = 'blossom-data-eng-richmond'\n",
    "    shard_id = 'shardId-000000000001'\n",
    "    iterator_type = 'AT_TIMESTAMP'\n",
    "    date = dt.datetime.today().date().__str__()\n",
    "    \n",
    "    next_shard_iterator = get_shard_iterator(stream_name, shard_id, iterator_type, date)\n",
    "    listings_consumer(next_shard_iterator)"
   ]
  },
  {
   "cell_type": "code",
   "execution_count": null,
   "metadata": {
    "collapsed": true
   },
   "outputs": [],
   "source": []
  }
 ],
 "metadata": {
  "kernelspec": {
   "display_name": "Python 3",
   "language": "python",
   "name": "python3"
  },
  "language_info": {
   "codemirror_mode": {
    "name": "ipython",
    "version": 3
   },
   "file_extension": ".py",
   "mimetype": "text/x-python",
   "name": "python",
   "nbconvert_exporter": "python",
   "pygments_lexer": "ipython3",
   "version": "3.6.8"
  }
 },
 "nbformat": 4,
 "nbformat_minor": 2
}
