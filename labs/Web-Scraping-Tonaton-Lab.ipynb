{
 "cells": [
  {
   "cell_type": "code",
   "execution_count": 1,
   "metadata": {},
   "outputs": [],
   "source": [
    "#Importing neccessary libraries and downloading webpage for scraping.\n",
    "import requests\n",
    "results = requests.get('http://tonaton.com')"
   ]
  },
  {
   "cell_type": "code",
   "execution_count": 2,
   "metadata": {},
   "outputs": [
    {
     "data": {
      "text/plain": [
       "200"
      ]
     },
     "execution_count": 2,
     "metadata": {},
     "output_type": "execute_result"
    }
   ],
   "source": [
    "#Checking the status of the page after downloading it.\n",
    "results.status_code"
   ]
  },
  {
   "cell_type": "code",
   "execution_count": 3,
   "metadata": {},
   "outputs": [
    {
     "data": {
      "text/plain": [
       "{'Date': 'Mon, 11 Nov 2019 12:27:16 GMT', 'Content-Type': 'text/html; charset=utf-8', 'Transfer-Encoding': 'chunked', 'Connection': 'keep-alive', 'Set-Cookie': '__cfduid=da5538a6a006e7be162b6a4b2495c089f1573475236; expires=Tue, 10-Nov-20 12:27:16 GMT; path=/; domain=.tonaton.com; HttpOnly, locale=en; Max-Age=63072000; Path=/; Expires=Wed, 10 Nov 2021 12:27:16 GMT', 'Vary': 'Accept-Encoding', 'cache-control': 'no-transform', 'etag': 'W/\"527d-WYaBunBdSuglwaa6qyR21BM2YQU\"', 'X-Host': 'tonaton.com', 'Content-Encoding': 'gzip', 'CF-Cache-Status': 'DYNAMIC', 'Expect-CT': 'max-age=604800, report-uri=\"https://report-uri.cloudflare.com/cdn-cgi/beacon/expect-ct\"', 'Server': 'cloudflare', 'CF-RAY': '53404261cb58e650-LHR'}"
      ]
     },
     "execution_count": 3,
     "metadata": {},
     "output_type": "execute_result"
    }
   ],
   "source": [
    "results.headers"
   ]
  },
  {
   "cell_type": "code",
   "execution_count": 4,
   "metadata": {},
   "outputs": [
    {
     "data": {
      "text/plain": [
       "'text/html; charset=utf-8'"
      ]
     },
     "execution_count": 4,
     "metadata": {},
     "output_type": "execute_result"
    }
   ],
   "source": [
    "results.headers['Content-Type']"
   ]
  },
  {
   "cell_type": "code",
   "execution_count": 5,
   "metadata": {},
   "outputs": [
    {
     "data": {
      "text/plain": [
       "b'<!DOCTYPE html><html lang=\"en\"><head><meta http-equiv=\"X-UA-Compatible\" content=\"IE=edge\"><title>Tonaton.com - Electronics, Cars, Property and Jobs in Ghana</title><link rel=\"alternate\"><!-- This is just a fail-safe for now. This will be removed once AMP is live--><!-- for all markets. =)--><!-- currently testing DNS stuff for ghanaweb. This is a temporary change to enable self canonicalization on--><!-- all the pages.--><link rel=\"canonical\" href=\"https://tonaton.com/\"><meta name=\"robots\" content=\"noodp\"><meta name=\"description\" content=\"Buy and sell everything from second-hand cars to mobile phones, or even find a new home. Find a great deal close to you, or search all of Ghana.\"><!-- This is just a fail-safe for now. This will be removed once AMP is live--><!-- for all markets. =)--><!-- currently testing DNS stuff for ghanaweb. This is a temporary change to enable self canonicalization on--><!-- all the pages.--><link rel=\"canonical\" href=\"https://tonaton.com/\"><meta name=\"theme-color\" content=\"#ffffff\"><meta name=\"google-site-verification\" content=\"cVG9oQ1kl0y_e6__Ds60Ry5FG776yYE_GZChCqdkJS0\"><meta name=\"viewport\" content=\"width=device-width, user-scalable=yes, maximum-scale=1, initial-scale=1\"><link rel=\"manifest\" href=\"/manifest.json\"><link data-page-stylesheet rel=\"stylesheet\" href=\"/dist/15734566/css/lg/tonaton/home.css\"><link rel=\"shortcut icon\" href=\"https://w.tonaton-st.com/dist/img/all/icons/favicon-725a6b77.ico\"><link rel=\"apple-touch-icon-precomposed\" href=\"https://w.tonaton-st.com/dist/img/all/icons/apple-touch-icon-precomposed.png\"><link rel=\"msapplication-TileColor\" href=\"#009877\"><link rel=\"msapplication-TileImage\" href=\"https://w.tonaton-st.com/dist/img/all/icons/metro-tile.png\"><script>var googletag = googletag || {};\\ngoogletag.cmd = googletag.cmd || [];\\n(function() {\\n\\tvar gads = document.createElement(\\'script\\');\\n\\tgads.async = true;\\n\\tgads.type = \\'text/javascript\\';\\n\\tvar useSSL = \\'https:\\' == document.location.protocol;\\n\\tgads.src = (useSSL ? \\'https:\\' : \\'http:\\') + \\'//securepubads.g.doubleclick.net/tag/js/gpt.js\\';\\n\\tvar node = document.getElementsByTagName(\\'script\\')[0];\\n\\tnode.parentNode.insertBefore(gads, node);\\n})();\\ngoogletag.cmd.push(function() {\\n\\tgoogletag.defineSlot(\\'/134461134/tonaton_desktop_homepage_leaderboard\\', [[970,90]], \\'div-gpt-ad-7284438281784-673\\').setTargeting(\\'page\\', [\\'home\\']).setTargeting(\\'locale\\', [\\'en\\']).setTargeting(\\'Ad_Format\\', [\\'leaderboard\\']).setTargeting(\\'Platform\\', [\\'Desktop\\']).addService(googletag.pubads());\\n\\tgoogletag.pubads().enableSingleRequest();\\n\\tgoogletag.enableServices();\\n});</script><meta property=\"og:url\" content=\"https://tonaton.com/\"><meta property=\"og:site_name\" content=\"Tonaton.com\"><meta property=\"og:title\" content=\"Tonaton.com - Electronics, Cars, Property and Jobs in Ghana\"><meta property=\"og:description\" content=\"Buy and sell everything from second-hand cars to mobile phones, or even find a new home. Find a great deal close to you, or search all of Ghana.\"><meta property=\"og:image\" content=\"https://tonaton.com/facebook-opengraph.png\"/><link rel=\"prefetch\" href=\"/en/ads/accra\"><link rel=\"prerender\" href=\"/en/ads/accra\"><script>window.APIDATA = {};\\nwindow.CONFIG = {};\\nwindow.gtmData = [];</script></head><body data-market=\"tonaton\" data-env=\"production\" data-os=\"\" data-os-ver=\"\" class=\"on-home-landing\"><nav class=\"ui-nav\"><div class=\"container\"><div class=\"ui-logo\"><a href=\"/\">Tonaton.com</a></div><ul class=\"ui-nav-list\"><li class=\"ui-nav-item  force-show-label browse-ads gtm-hamburger-ads\"><a href=\"/en/ads\" rel=\"\" target=\"\"><span class=\"hide-for-inactive\">All ads</span></a></li></ul><ul class=\"ui-nav-list is-opposite\"><li class=\"ui-nav-item   nav-chat is-not-logged-in gtm-chat-click\" data-modal-selector=\".login-panel\" data-modal-platforms=\"LG SM\"><a href=\"/en/chat-header\" rel=\"nofollow\" target=\"\" data-modal-selector=\".login-panel\" data-modal-platforms=\"LG SM\"><svg class=\"ui-icon i-chat chat-read-icon gtm-chat-click\"><use xlink:href=\"#i-chat\"></use></svg><span class=\"hide-for-inactive\">Chat</span></a></li><li class=\"ui-nav-item   nav-chat is-logged-in\"><a href=\"/en/chat\" rel=\"nofollow\" target=\"\"><svg class=\"ui-icon i-chat chat-read-icon\"><use xlink:href=\"#i-chat\"></use></svg><svg class=\"ui-icon i-chat-notif-white-circle chat-unread-icon\" style=\"display: none;\"><use xlink:href=\"#i-chat-notif-white-circle\"></use></svg><span class=\"hide-for-inactive\">Chat</span></a></li><li class=\"ui-nav-item   nav-dashboard\"><a href=\"/en/my/dashboard\" rel=\"nofollow\" target=\"\"><svg class=\"ui-icon i-user\"><use xlink:href=\"#i-user\"></use></svg><span class=\"hide-for-inactive\">My account</span></a></li><li class=\"ui-nav-item   nav-login\"><a href=\"/en/users/login\" rel=\"nofollow\" target=\"\"><svg class=\"ui-icon i-user\"><use xlink:href=\"#i-user\"></use></svg><span class=\"hide-for-inactive\">Log in</span></a></li><li><a class=\"ui-btn is-important btn-post\" href=\"/en/post-ad\" rel=\"nofollow\"><span class=\"h4 t-bold btn-post\">POST YOUR AD</span></a></li></ul></div></nav><div class=\"alerts\"><div class=\"container\"></div></div><div class=\"app-content\"><div class=\"landing-banner is-leaderboard\"><div id=div-gpt-ad-7284438281784-673><script>googletag.cmd.push(function() { googletag.display(\\'div-gpt-ad-7284438281784-673\\'); });</script></div></div><div class=\"home-top\"><div class=\"container\"><div class=\"row\"><div class=\"col-6\"><h1 class=\"t-bold\">Welcome to the largest marketplace in Ghana!</h1><p>Buy and sell everything from used cars to mobile phones and computers, or search for property, jobs and more <strong>in Ghana</strong>!</p>\\n</div><div class=\"col-6\"><div class=\"home-locations\"><div class=\"home-group is-city\"><p class=\"h3\">Cities</p><ul class=\"locations-2\"><li><a href=\"/en/ads/accra\" data-id=\\'3811\\'>Accra</a></li><li><a href=\"/en/ads/kumasi\" data-id=\\'3899\\'>Kumasi</a></li><li><a href=\"/en/ads/sekondi-takoradi\" data-id=\\'3948\\'>Sekondi Takoradi</a></li></ul></div><div class=\"home-group is-region\"><p class=\"h3\">Regions</p><ul class=\"locations-2\"><li><a href=\"/en/ads/ashanti\" data-id=\\'3586\\'>Ashanti</a></li><li><a href=\"/en/ads/greater-accra\" data-id=\\'3617\\'>Greater Accra</a></li><li><a href=\"/en/ads/eastern\" data-id=\\'3634\\'>Eastern</a></li><li><a href=\"/en/ads/western\" data-id=\\'3661\\'>Western</a></li><li><a href=\"/en/ads/northern\" data-id=\\'3684\\'>Northern</a></li><li><a href=\"/en/ads/brong-ahafo\" data-id=\\'3711\\'>Brong-Ahafo</a></li><li><a href=\"/en/ads/volta\" data-id=\\'3739\\'>Volta</a></li><li><a href=\"/en/ads/central\" data-id=\\'3765\\'>Central</a></li><li><a href=\"/en/ads/upper-east\" data-id=\\'3786\\'>Upper East</a></li><li><a href=\"/en/ads/upper-west\" data-id=\\'3800\\'>Upper West</a></li></ul></div></div></div></div><div class=\"home-map\"><object type=\"image/svg+xml\" data=\"/dist/svg/map/tonaton-24787a0b.min.svg\"></object><div class=\"map-info\"></div></div><div class=\"home-focus\"><p class=\"title\">Browse our top categories:</p><div class=\"home-categories\"><div class=\"row\"><div class=\"col-6 lg-3\"><a href=\"/en/ads/ghana/electronics\"><span class=\"ui-sprite categories-36 mobiles\"></span><span>Electronics</span></a></div><div class=\"col-6 lg-3\"><a href=\"/en/ads/ghana/property\"><span class=\"ui-sprite categories-36 property\"></span><span>Property</span></a></div><div class=\"col-6 lg-3\"><a href=\"/en/ads/ghana/vehicles\"><span class=\"ui-sprite categories-36 vehicles\"></span><span>Vehicles</span></a></div><div class=\"col-6 lg-3\"><a href=\"https://tonaton.com/en/jobs\"><span class=\"ui-sprite categories-36 jobs\"></span><span>Jobs in Ghana</span></a></div></div><div class=\"row deals-link\"><div class=\"deal-image\"></div><a href=\"/en/shops/bestdeals\">Tonaton Deals</a><span class=\"ui-bubble is-member new-bubble\">NEW!</span>Great deals delivered straight to your doorstep</div></div></div></div></div><div class=\"container main\"><div class=\"home-info row lg-g\"><div class=\"col-12 lg-9\"><div class=\"ui-panel home-safety is-rounded is-pad-m\"><div class=\"ui-panel-content ui-panel-block\"><p class=\"h5\">Stay safe while trading!</p><p>For your safety, Tonaton verifies ad posters by Voter ID. <a href=\"/en/help/stay-safe\">Read our tips</a> on how to make safe deals.</p>\\n</div></div></div><div class=\"col-12 lg-3\"><div class=\"ui-panel home-fb is-rounded is-pad-m\"><div class=\"ui-panel-content ui-panel-block\"><p class=\"title\"><a href=\"https://www.facebook.com/tonatoncom\" target=\"_blank\" rel=\"nofollow\"><svg class=\"ui-icon i-facebook\"><use xlink:href=\"#i-facebook\"></use></svg>&nbsp;Like us on Facebook</a></p></div></div></div></div><div class=\"ui-panel is-rounded\"><div class=\"ui-panel-content ui-panel-block\"><div class=\"home-categories\"><div class=\"row lg-g\"><div class=\"col-12 lg-3\"><h4 class=\"menu-item-header\"><a href=\"/en/ads/ghana/electronics\" class=\"t-bold\"><span class=\"ui-sprite categories-36 mobiles\"></span><span>Electronics</span></a></h4><p class=\"count\"><span class=\"ui-badge\">32,088</span></p><p class=\"info t-small\">Find great deals for used electronics in Ghana including mobile phones, computers, laptops, TVs, home theatres and much more.</p></div><div class=\"col-12 lg-3\"><h4 class=\"menu-item-header\"><a href=\"/en/ads/ghana/property\" class=\"t-bold\"><span class=\"ui-sprite categories-36 property\"></span><span>Property</span></a></h4><p class=\"count\"><span class=\"ui-badge\">17,493</span></p><p class=\"info t-small\">View listings for property in Ghana. Find the cheapest rates for apartments, commercial and residential property, as well as for land and plots.</p></div><div class=\"col-12 lg-3\"><h4 class=\"menu-item-header\"><a href=\"/en/ads/ghana/home-garden\" class=\"t-bold\"><span class=\"ui-sprite categories-36 home\"></span><span>Home &amp; Garden</span></a></h4><p class=\"count\"><span class=\"ui-badge\">16,444</span></p><p class=\"info t-small\">You will find everything for the home and garden here including furniture, kitchenware and gardening products.</p></div><div class=\"col-12 lg-3\"><h4 class=\"menu-item-header\"><a href=\"/en/ads/ghana/vehicles\" class=\"t-bold\"><span class=\"ui-sprite categories-36 vehicles\"></span><span>Vehicles</span></a></h4><p class=\"count\"><span class=\"ui-badge\">12,185</span></p><p class=\"info t-small\">Buy and sell used cars, motorbikes and other vehicles in Ghana. Choose from top brands including Toyota, Nissan, Honda and Suzuki.</p></div></div><div class=\"row lg-g\"><div class=\"col-12 lg-3\"><h4 class=\"menu-item-header\"><a href=\"/en/ads/ghana/clothing-health-beauty\" class=\"t-bold\"><span class=\"ui-sprite categories-36 fashion\"></span><span>Clothing, Health &amp; Beauty</span></a></h4><p class=\"count\"><span class=\"ui-badge\">9,515</span></p><p class=\"info t-small\">Choose from a wide range of clothing items, health and beauty products and everything else you need to keep yourself looking stylish.</p></div><div class=\"col-12 lg-3\"><h4 class=\"menu-item-header\"><a href=\"/en/ads/ghana/hobby-sport-kids\" class=\"t-bold\"><span class=\"ui-sprite categories-36 hobby\"></span><span>Hobby, Sport &amp; Kids</span></a></h4><p class=\"count\"><span class=\"ui-badge\">2,913</span></p><p class=\"info t-small\">Buy and sell used musical instruments, sports gear and accessories, art and collectibles as well as a whole range of items for kids.</p></div><div class=\"col-12 lg-3\"><h4 class=\"menu-item-header\"><a href=\"https://tonaton.com/en/jobs\" class=\"t-bold\"><span class=\"ui-sprite categories-36 jobs\"></span><span>Jobs in Ghana</span></a></h4><p class=\"count\"><span class=\"ui-badge\">1,059</span></p><p class=\"info t-small\">Post and apply for jobs and career opportunities in Ghana. Search for job vacancies in your city.</p></div><div class=\"col-12 lg-3\"><h4 class=\"menu-item-header\"><a href=\"/en/ads/ghana/pets-animals\" class=\"t-bold\"><span class=\"ui-sprite categories-36 animals\"></span><span>Pets &amp; Animals</span></a></h4><p class=\"count\"><span class=\"ui-badge\">884</span></p><p class=\"info t-small\">Search from the widest variety of pets in Ghana. Choose from dogs, puppies, cats, kittens, birds and other domesticated animals as well as farm animals.</p></div></div><div class=\"row lg-g\"><div class=\"col-12 lg-3\"><h4 class=\"menu-item-header\"><a href=\"/en/ads/ghana/business-industry\" class=\"t-bold\"><span class=\"ui-sprite categories-36 business\"></span><span>Business &amp; Industry</span></a></h4><p class=\"count\"><span class=\"ui-badge\">637</span></p><p class=\"info t-small\">Looking for some help at home or in your business, then look no further, there are hundreds of business services on offer across Ghana listed here.</p></div><div class=\"col-12 lg-3\"><h4 class=\"menu-item-header\"><a href=\"/en/ads/ghana/services\" class=\"t-bold\"><span class=\"ui-sprite categories-36 services\"></span><span>Services</span></a></h4><p class=\"count\"><span class=\"ui-badge\">460</span></p><p class=\"info t-small\">Browse through a range of service based companies offering services to both other businesses and consumers alike.</p></div><div class=\"col-12 lg-3\"><h4 class=\"menu-item-header\"><a href=\"/en/ads/ghana/overseas-jobs\" class=\"t-bold\"><span class=\"ui-sprite categories-36 overseas_jobs\"></span><span>Overseas jobs</span></a></h4><p class=\"count\"><span class=\"ui-badge\">301</span></p><p class=\"info t-small\">Apply for overseas jobs, browse a range of quality international job vacancies in your dream location.</p></div><div class=\"col-12 lg-3\"><h4 class=\"menu-item-header\"><a href=\"/en/ads/ghana/food-agriculture\" class=\"t-bold\"><span class=\"ui-sprite categories-36 food\"></span><span>Food &amp; Agriculture</span></a></h4><p class=\"count\"><span class=\"ui-badge\">257</span></p><p class=\"info t-small\">Find food and edible products, including fresh fruits and vegetables, meats, fish, seafood, crop seeds, plants and other agricultural products in Ghana.</p></div></div><div class=\"row lg-g\"><div class=\"col-12 lg-3\"><h4 class=\"menu-item-header\"><a href=\"/en/ads/ghana/other\" class=\"t-bold\"><span class=\"ui-sprite categories-36 other\"></span><span>Other</span></a></h4><p class=\"count\"><span class=\"ui-badge\">188</span></p><p class=\"info t-small\">Classified ads for miscellaneous products and items all over Ghana. Buy and sell almost anything.</p></div><div class=\"col-12 lg-3\"><h4 class=\"menu-item-header\"><a href=\"/en/ads/ghana/education\" class=\"t-bold\"><span class=\"ui-sprite categories-36 education\"></span><span>Education</span></a></h4><p class=\"count\"><span class=\"ui-badge\">48</span></p><p class=\"info t-small\">Buy and sell books and magazines, find tuition, classes and other educational resources in Ghana.</p></div></div></div></div></div><div class=\"post-cta t-center\"><p class=\"h1\">Do you have something to sell?</p><p class=\"h3\">Post your ad on Tonaton.com</p><p class=\"gtm-postad\"><svg class=\"ui-icon i-pointer-l\"><use xlink:href=\"#i-pointer-l\"></use></svg><a class=\"ui-btn is-primary gtm-postad\" href=\"/en/post-ad\" rel=\"nofollow\">Post an ad now!</a><svg class=\"ui-icon i-pointer-r\"><use xlink:href=\"#i-pointer-r\"></use></svg></p></div><div id=\"fb-root\"></div></div></div><div class=\"app-footer container\"><div class=\"row lg-g\"><nav class=\"footer-intro ui-nav-links col-12 lg-4\"><p class=\"title\">Download our app</p><ul><li class=\"gtm-hamburger-download-app\"><a href=\"https://play.google.com/store/apps/details?id=com.tonaton&amp;referrer=utm_source%3D(direct)%26utm_medium%3Dfooter_banner%26utm_campaign%3Dandroid_app\" rel=\"nofollow\" target=\"_blank\" class=\"app-android gtm-hamburger-download-app\"><img data-srcset=\"https://w.tonaton-st.com/dist/img/all/app/android-a9c12585.png 1x, https://w.tonaton-st.com/dist/img/all/app/android-2x-f6e6a4fb.png 1.3x\" width=\"136\" height=\"41\"/></a></li><li class=\"gtm-hamburger-download-app\"><a href=\"https://itunes.apple.com/us/app/tonaton/id991709753\" rel=\"nofollow\" target=\"_blank\" class=\"app-ios gtm-hamburger-download-app\"><img data-srcset=\"https://w.tonaton-st.com/dist/img/all/app/ios-f93749bf.png 1x, https://w.tonaton-st.com/dist/img/all/app/ios-2x-5670037f.png 1.3x\" width=\"136\" height=\"41\"/></a></li></ul><p class=\"title\">Connect with us</p><a href=\"https://www.facebook.com/tonatoncom\" rel=\"nofollow\" target=\"_blank\" class=\"ui-social-btn is-fb gtm-like-us-fb\"><span class=\"icon gtm-like-us-fb\"><svg class=\"ui-icon i-facebook is-l\"><use xlink:href=\"#i-facebook\"></use></svg></span><span class=\"gtm-like-us-fb text\">Like us on Facebook</span></a></nav><nav class=\"ui-nav-links col-12 lg-2\"><p class=\"title\">Learn More</p><ul><li class=\"ui-nav-item  \"><a href=\"/en/help/sell-fast#help-content\" rel=\"\" target=\"\"><span class=\"hide-for-inactive\">How to sell fast</span></a></li><li class=\"ui-nav-item  \"><a href=\"/en/buy-now\" rel=\"\" target=\"\"><span class=\"hide-for-inactive\">Buy Now on Tonaton.com</span></a></li><li class=\"ui-nav-item  \"><a href=\"/en/membership\" rel=\"\" target=\"\"><span class=\"hide-for-inactive\">Membership</span></a></li><li class=\"ui-nav-item  \"><a href=\"/en/advertising\" rel=\"\" target=\"\"><span class=\"hide-for-inactive\">Banner Advertising</span></a></li><li class=\"ui-nav-item  \"><a href=\"/en/promotions\" rel=\"\" target=\"\"><span class=\"hide-for-inactive\">Promote your ad</span></a></li></ul></nav><nav class=\"ui-nav-links col-12 lg-2\"><p class=\"title\">Help &amp; Support</p><ul><li class=\"ui-nav-item  \"><a href=\"/en/help/faq#help-content\" rel=\"\" target=\"\"><span class=\"hide-for-inactive\">FAQ</span></a></li><li class=\"ui-nav-item  \"><a href=\"/en/help/stay-safe#help-content\" rel=\"\" target=\"\"><span class=\"hide-for-inactive\">Stay safe on Tonaton.com</span></a></li><li class=\"ui-nav-item  \"><a href=\"/en/help/contact#help-content\" rel=\"\" target=\"\"><span class=\"hide-for-inactive\">Contact us</span></a></li></ul></nav><nav class=\"ui-nav-links col-12 lg-2\"><p class=\"title\">Social</p><ul><li class=\"ui-nav-item blog-url\"><a href=\"http://blog.tonaton.com\">Blog</a></li><li class=\"ui-nav-item social-facebook\"><a href=\"https://www.facebook.com/tonatoncom\" rel=\"nofollow\" target=\"_blank\">Facebook</a></li><li class=\"ui-nav-item social-twitter\"><a href=\"https://twitter.com/tonatonghana\" rel=\"nofollow\" target=\"_blank\">Twitter</a></li><li class=\"ui-nav-item social-youtube\"><a href=\"https://www.youtube.com/user/Tonatonclassifieds\" rel=\"nofollow\" target=\"_blank\">YouTube</a></li></ul></nav><nav class=\"ui-nav-links col-12 lg-2\"><p class=\"title\">About us</p><ul><li class=\"ui-nav-item  \"><a href=\"/en/help/about#help-content\" rel=\"\" target=\"\"><span class=\"hide-for-inactive\">About us</span></a></li><li class=\"ui-nav-item\"><a href=\"http://tonaton.com/en/shops/tonaton-jobs\" class=\"careers\">Career</a></li><li class=\"ui-nav-item  \"><a href=\"/en/terms\" rel=\"nofollow\" target=\"\"><span class=\"hide-for-inactive\">Terms &amp; Conditions</span></a></li><li class=\"ui-nav-item  \"><a href=\"/en/privacy\" rel=\"nofollow\" target=\"\"><span class=\"hide-for-inactive\">Privacy Policy</span></a></li><li class=\"ui-nav-item  \"><a href=\"/en/sitemap\" rel=\"\" target=\"\"><span class=\"hide-for-inactive\">Sitemap</span></a></li></ul></nav></div><div class=\"footer-final row\"><div class=\"col-8 copyright\">Copyright &copy; Saltside Technologies</div><div class=\"col-4 logo\"><img data-srcset=\"https://w.tonaton-st.com/dist/img/tonaton/all/logos/footer-107a9aa6.png 1x, https://w.tonaton-st.com/dist/img/tonaton/all/logos/footer-2x-91be67a9.png 1.3x\" height=\"18\"/></div></div></div><script type=\"application/ld+json\">{\"@context\":\"http://schema.org\",\"@type\":\"WebSite\",\"name\":\"Tonaton\",\"url\":\"https://tonaton.com\",\"image\":\"https://w.tonaton-st.com/dist/img/tonaton/all/logos/footer-2x-91be67a9.png\",\"potentialAction\":[{\"@type\":\"SearchAction\",\"target\":\"https://tonaton.com/bn/ads?query={search_term_string}\",\"query-input\":\"required name=search_term_string\"},{\"@type\":\"SearchAction\",\"target\":\"android-app://com.tonaton/tonaton/ads?query={search_term_string}\",\"query-input\":\"required name=search_term_string\"}],\"description\":\"Buy and sell everything from second-hand cars to mobile phones, or even find a new home. Find a great deal close to you, or search all of Ghana.\"}</script><script type=\"application/ld+json\">{\"@context\":\"http://schema.org\",\"@type\":\"Organization\",\"name\":\"Tonaton\",\"url\":\"https://tonaton.com\",\"logo\":\"https://w.tonaton-st.com/dist/img/tonaton/all/logos/footer-2x-91be67a9.png\",\"contactPoint\":{\"@type\":\"ContactPoint\",\"telephone\":\"+233302 746 911\",\"contactType\":\"Customer Service\"},\"sameAs\":[\"https://www.facebook.com/tonatoncom\",\"https://twitter.com/TonatonGhana\",\"https://www.linkedin.com/company/tonaton-com\",\"https://en.wikipedia.org/wiki/Tonaton.com\"]}</script><script>window.PLATFORM = CONFIG.platform = \\'lg\\';\\nCONFIG.locale = \\'en\\';\\nCONFIG.FACEBOOK_APP_ID = \\'1428662334112639\\';</script><script>CONFIG.publishKey = \\'pub-c-0ee9bd9d-a4f5-496f-b4a1-b5df9752fd71\\';\\nCONFIG.subscribeKey = \\'sub-c-0febd3a0-cada-11e9-93da-dae13b67b174\\';</script><script src=\"https://w.tonaton-st.com/dist/15734566/js/lg/home.js\"></script><script type=\"text/javascript\">gtmData.push({\"userAuthenticated\":\"no\",\"platform\":\"lg\"})</script><script>(function(w,d,s,l,i){w[l]=w[l]||[];w[l].push({\\'gtm.start\\':new Date().getTime(),event:\\'gtm.js\\'});var f=d.getElementsByTagName(s)[0],j=d.createElement(s),dl=l!=\\'dataLayer\\'?\\'&l=\\'+l:\\'\\';j.async=true;j.src=\\'//www.googletagmanager.com/gtm.js?id=\\'+i+dl;f.parentNode.insertBefore(j,f);})(window,document,\\'script\\',\\'gtmData\\',\\'GTM-TBL3FB\\');</script><!-- 2019-11-11T12:27:16.218Z --></body></html>'"
      ]
     },
     "execution_count": 5,
     "metadata": {},
     "output_type": "execute_result"
    }
   ],
   "source": [
    "results.content"
   ]
  },
  {
   "cell_type": "code",
   "execution_count": 6,
   "metadata": {},
   "outputs": [],
   "source": [
    "#Let's pull data from our webpage with Beautifulsoup\n",
    "from bs4 import BeautifulSoup\n",
    "soup = BeautifulSoup(results.content, 'lxml')"
   ]
  },
  {
   "cell_type": "code",
   "execution_count": 7,
   "metadata": {},
   "outputs": [
    {
     "data": {
      "text/plain": [
       "<!DOCTYPE html>\n",
       "<html lang=\"en\"><head><meta content=\"IE=edge\" http-equiv=\"X-UA-Compatible\"/><title>Tonaton.com - Electronics, Cars, Property and Jobs in Ghana</title><link rel=\"alternate\"/><!-- This is just a fail-safe for now. This will be removed once AMP is live--><!-- for all markets. =)--><!-- currently testing DNS stuff for ghanaweb. This is a temporary change to enable self canonicalization on--><!-- all the pages.--><link href=\"https://tonaton.com/\" rel=\"canonical\"/><meta content=\"noodp\" name=\"robots\"/><meta content=\"Buy and sell everything from second-hand cars to mobile phones, or even find a new home. Find a great deal close to you, or search all of Ghana.\" name=\"description\"/><!-- This is just a fail-safe for now. This will be removed once AMP is live--><!-- for all markets. =)--><!-- currently testing DNS stuff for ghanaweb. This is a temporary change to enable self canonicalization on--><!-- all the pages.--><link href=\"https://tonaton.com/\" rel=\"canonical\"/><meta content=\"#ffffff\" name=\"theme-color\"/><meta content=\"cVG9oQ1kl0y_e6__Ds60Ry5FG776yYE_GZChCqdkJS0\" name=\"google-site-verification\"/><meta content=\"width=device-width, user-scalable=yes, maximum-scale=1, initial-scale=1\" name=\"viewport\"/><link href=\"/manifest.json\" rel=\"manifest\"/><link data-page-stylesheet=\"\" href=\"/dist/15734566/css/lg/tonaton/home.css\" rel=\"stylesheet\"/><link href=\"https://w.tonaton-st.com/dist/img/all/icons/favicon-725a6b77.ico\" rel=\"shortcut icon\"/><link href=\"https://w.tonaton-st.com/dist/img/all/icons/apple-touch-icon-precomposed.png\" rel=\"apple-touch-icon-precomposed\"/><link href=\"#009877\" rel=\"msapplication-TileColor\"/><link href=\"https://w.tonaton-st.com/dist/img/all/icons/metro-tile.png\" rel=\"msapplication-TileImage\"/><script>var googletag = googletag || {};\n",
       "googletag.cmd = googletag.cmd || [];\n",
       "(function() {\n",
       "\tvar gads = document.createElement('script');\n",
       "\tgads.async = true;\n",
       "\tgads.type = 'text/javascript';\n",
       "\tvar useSSL = 'https:' == document.location.protocol;\n",
       "\tgads.src = (useSSL ? 'https:' : 'http:') + '//securepubads.g.doubleclick.net/tag/js/gpt.js';\n",
       "\tvar node = document.getElementsByTagName('script')[0];\n",
       "\tnode.parentNode.insertBefore(gads, node);\n",
       "})();\n",
       "googletag.cmd.push(function() {\n",
       "\tgoogletag.defineSlot('/134461134/tonaton_desktop_homepage_leaderboard', [[970,90]], 'div-gpt-ad-7284438281784-673').setTargeting('page', ['home']).setTargeting('locale', ['en']).setTargeting('Ad_Format', ['leaderboard']).setTargeting('Platform', ['Desktop']).addService(googletag.pubads());\n",
       "\tgoogletag.pubads().enableSingleRequest();\n",
       "\tgoogletag.enableServices();\n",
       "});</script><meta content=\"https://tonaton.com/\" property=\"og:url\"/><meta content=\"Tonaton.com\" property=\"og:site_name\"/><meta content=\"Tonaton.com - Electronics, Cars, Property and Jobs in Ghana\" property=\"og:title\"/><meta content=\"Buy and sell everything from second-hand cars to mobile phones, or even find a new home. Find a great deal close to you, or search all of Ghana.\" property=\"og:description\"/><meta content=\"https://tonaton.com/facebook-opengraph.png\" property=\"og:image\"/><link href=\"/en/ads/accra\" rel=\"prefetch\"/><link href=\"/en/ads/accra\" rel=\"prerender\"/><script>window.APIDATA = {};\n",
       "window.CONFIG = {};\n",
       "window.gtmData = [];</script></head><body class=\"on-home-landing\" data-env=\"production\" data-market=\"tonaton\" data-os=\"\" data-os-ver=\"\"><nav class=\"ui-nav\"><div class=\"container\"><div class=\"ui-logo\"><a href=\"/\">Tonaton.com</a></div><ul class=\"ui-nav-list\"><li class=\"ui-nav-item force-show-label browse-ads gtm-hamburger-ads\"><a href=\"/en/ads\" rel=\"\" target=\"\"><span class=\"hide-for-inactive\">All ads</span></a></li></ul><ul class=\"ui-nav-list is-opposite\"><li class=\"ui-nav-item nav-chat is-not-logged-in gtm-chat-click\" data-modal-platforms=\"LG SM\" data-modal-selector=\".login-panel\"><a data-modal-platforms=\"LG SM\" data-modal-selector=\".login-panel\" href=\"/en/chat-header\" rel=\"nofollow\" target=\"\"><svg class=\"ui-icon i-chat chat-read-icon gtm-chat-click\"><use xlink:href=\"#i-chat\"></use></svg><span class=\"hide-for-inactive\">Chat</span></a></li><li class=\"ui-nav-item nav-chat is-logged-in\"><a href=\"/en/chat\" rel=\"nofollow\" target=\"\"><svg class=\"ui-icon i-chat chat-read-icon\"><use xlink:href=\"#i-chat\"></use></svg><svg class=\"ui-icon i-chat-notif-white-circle chat-unread-icon\" style=\"display: none;\"><use xlink:href=\"#i-chat-notif-white-circle\"></use></svg><span class=\"hide-for-inactive\">Chat</span></a></li><li class=\"ui-nav-item nav-dashboard\"><a href=\"/en/my/dashboard\" rel=\"nofollow\" target=\"\"><svg class=\"ui-icon i-user\"><use xlink:href=\"#i-user\"></use></svg><span class=\"hide-for-inactive\">My account</span></a></li><li class=\"ui-nav-item nav-login\"><a href=\"/en/users/login\" rel=\"nofollow\" target=\"\"><svg class=\"ui-icon i-user\"><use xlink:href=\"#i-user\"></use></svg><span class=\"hide-for-inactive\">Log in</span></a></li><li><a class=\"ui-btn is-important btn-post\" href=\"/en/post-ad\" rel=\"nofollow\"><span class=\"h4 t-bold btn-post\">POST YOUR AD</span></a></li></ul></div></nav><div class=\"alerts\"><div class=\"container\"></div></div><div class=\"app-content\"><div class=\"landing-banner is-leaderboard\"><div id=\"div-gpt-ad-7284438281784-673\"><script>googletag.cmd.push(function() { googletag.display('div-gpt-ad-7284438281784-673'); });</script></div></div><div class=\"home-top\"><div class=\"container\"><div class=\"row\"><div class=\"col-6\"><h1 class=\"t-bold\">Welcome to the largest marketplace in Ghana!</h1><p>Buy and sell everything from used cars to mobile phones and computers, or search for property, jobs and more <strong>in Ghana</strong>!</p>\n",
       "</div><div class=\"col-6\"><div class=\"home-locations\"><div class=\"home-group is-city\"><p class=\"h3\">Cities</p><ul class=\"locations-2\"><li><a data-id=\"3811\" href=\"/en/ads/accra\">Accra</a></li><li><a data-id=\"3899\" href=\"/en/ads/kumasi\">Kumasi</a></li><li><a data-id=\"3948\" href=\"/en/ads/sekondi-takoradi\">Sekondi Takoradi</a></li></ul></div><div class=\"home-group is-region\"><p class=\"h3\">Regions</p><ul class=\"locations-2\"><li><a data-id=\"3586\" href=\"/en/ads/ashanti\">Ashanti</a></li><li><a data-id=\"3617\" href=\"/en/ads/greater-accra\">Greater Accra</a></li><li><a data-id=\"3634\" href=\"/en/ads/eastern\">Eastern</a></li><li><a data-id=\"3661\" href=\"/en/ads/western\">Western</a></li><li><a data-id=\"3684\" href=\"/en/ads/northern\">Northern</a></li><li><a data-id=\"3711\" href=\"/en/ads/brong-ahafo\">Brong-Ahafo</a></li><li><a data-id=\"3739\" href=\"/en/ads/volta\">Volta</a></li><li><a data-id=\"3765\" href=\"/en/ads/central\">Central</a></li><li><a data-id=\"3786\" href=\"/en/ads/upper-east\">Upper East</a></li><li><a data-id=\"3800\" href=\"/en/ads/upper-west\">Upper West</a></li></ul></div></div></div></div><div class=\"home-map\"><object data=\"/dist/svg/map/tonaton-24787a0b.min.svg\" type=\"image/svg+xml\"></object><div class=\"map-info\"></div></div><div class=\"home-focus\"><p class=\"title\">Browse our top categories:</p><div class=\"home-categories\"><div class=\"row\"><div class=\"col-6 lg-3\"><a href=\"/en/ads/ghana/electronics\"><span class=\"ui-sprite categories-36 mobiles\"></span><span>Electronics</span></a></div><div class=\"col-6 lg-3\"><a href=\"/en/ads/ghana/property\"><span class=\"ui-sprite categories-36 property\"></span><span>Property</span></a></div><div class=\"col-6 lg-3\"><a href=\"/en/ads/ghana/vehicles\"><span class=\"ui-sprite categories-36 vehicles\"></span><span>Vehicles</span></a></div><div class=\"col-6 lg-3\"><a href=\"https://tonaton.com/en/jobs\"><span class=\"ui-sprite categories-36 jobs\"></span><span>Jobs in Ghana</span></a></div></div><div class=\"row deals-link\"><div class=\"deal-image\"></div><a href=\"/en/shops/bestdeals\">Tonaton Deals</a><span class=\"ui-bubble is-member new-bubble\">NEW!</span>Great deals delivered straight to your doorstep</div></div></div></div></div><div class=\"container main\"><div class=\"home-info row lg-g\"><div class=\"col-12 lg-9\"><div class=\"ui-panel home-safety is-rounded is-pad-m\"><div class=\"ui-panel-content ui-panel-block\"><p class=\"h5\">Stay safe while trading!</p><p>For your safety, Tonaton verifies ad posters by Voter ID. <a href=\"/en/help/stay-safe\">Read our tips</a> on how to make safe deals.</p>\n",
       "</div></div></div><div class=\"col-12 lg-3\"><div class=\"ui-panel home-fb is-rounded is-pad-m\"><div class=\"ui-panel-content ui-panel-block\"><p class=\"title\"><a href=\"https://www.facebook.com/tonatoncom\" rel=\"nofollow\" target=\"_blank\"><svg class=\"ui-icon i-facebook\"><use xlink:href=\"#i-facebook\"></use></svg> Like us on Facebook</a></p></div></div></div></div><div class=\"ui-panel is-rounded\"><div class=\"ui-panel-content ui-panel-block\"><div class=\"home-categories\"><div class=\"row lg-g\"><div class=\"col-12 lg-3\"><h4 class=\"menu-item-header\"><a class=\"t-bold\" href=\"/en/ads/ghana/electronics\"><span class=\"ui-sprite categories-36 mobiles\"></span><span>Electronics</span></a></h4><p class=\"count\"><span class=\"ui-badge\">32,088</span></p><p class=\"info t-small\">Find great deals for used electronics in Ghana including mobile phones, computers, laptops, TVs, home theatres and much more.</p></div><div class=\"col-12 lg-3\"><h4 class=\"menu-item-header\"><a class=\"t-bold\" href=\"/en/ads/ghana/property\"><span class=\"ui-sprite categories-36 property\"></span><span>Property</span></a></h4><p class=\"count\"><span class=\"ui-badge\">17,493</span></p><p class=\"info t-small\">View listings for property in Ghana. Find the cheapest rates for apartments, commercial and residential property, as well as for land and plots.</p></div><div class=\"col-12 lg-3\"><h4 class=\"menu-item-header\"><a class=\"t-bold\" href=\"/en/ads/ghana/home-garden\"><span class=\"ui-sprite categories-36 home\"></span><span>Home &amp; Garden</span></a></h4><p class=\"count\"><span class=\"ui-badge\">16,444</span></p><p class=\"info t-small\">You will find everything for the home and garden here including furniture, kitchenware and gardening products.</p></div><div class=\"col-12 lg-3\"><h4 class=\"menu-item-header\"><a class=\"t-bold\" href=\"/en/ads/ghana/vehicles\"><span class=\"ui-sprite categories-36 vehicles\"></span><span>Vehicles</span></a></h4><p class=\"count\"><span class=\"ui-badge\">12,185</span></p><p class=\"info t-small\">Buy and sell used cars, motorbikes and other vehicles in Ghana. Choose from top brands including Toyota, Nissan, Honda and Suzuki.</p></div></div><div class=\"row lg-g\"><div class=\"col-12 lg-3\"><h4 class=\"menu-item-header\"><a class=\"t-bold\" href=\"/en/ads/ghana/clothing-health-beauty\"><span class=\"ui-sprite categories-36 fashion\"></span><span>Clothing, Health &amp; Beauty</span></a></h4><p class=\"count\"><span class=\"ui-badge\">9,515</span></p><p class=\"info t-small\">Choose from a wide range of clothing items, health and beauty products and everything else you need to keep yourself looking stylish.</p></div><div class=\"col-12 lg-3\"><h4 class=\"menu-item-header\"><a class=\"t-bold\" href=\"/en/ads/ghana/hobby-sport-kids\"><span class=\"ui-sprite categories-36 hobby\"></span><span>Hobby, Sport &amp; Kids</span></a></h4><p class=\"count\"><span class=\"ui-badge\">2,913</span></p><p class=\"info t-small\">Buy and sell used musical instruments, sports gear and accessories, art and collectibles as well as a whole range of items for kids.</p></div><div class=\"col-12 lg-3\"><h4 class=\"menu-item-header\"><a class=\"t-bold\" href=\"https://tonaton.com/en/jobs\"><span class=\"ui-sprite categories-36 jobs\"></span><span>Jobs in Ghana</span></a></h4><p class=\"count\"><span class=\"ui-badge\">1,059</span></p><p class=\"info t-small\">Post and apply for jobs and career opportunities in Ghana. Search for job vacancies in your city.</p></div><div class=\"col-12 lg-3\"><h4 class=\"menu-item-header\"><a class=\"t-bold\" href=\"/en/ads/ghana/pets-animals\"><span class=\"ui-sprite categories-36 animals\"></span><span>Pets &amp; Animals</span></a></h4><p class=\"count\"><span class=\"ui-badge\">884</span></p><p class=\"info t-small\">Search from the widest variety of pets in Ghana. Choose from dogs, puppies, cats, kittens, birds and other domesticated animals as well as farm animals.</p></div></div><div class=\"row lg-g\"><div class=\"col-12 lg-3\"><h4 class=\"menu-item-header\"><a class=\"t-bold\" href=\"/en/ads/ghana/business-industry\"><span class=\"ui-sprite categories-36 business\"></span><span>Business &amp; Industry</span></a></h4><p class=\"count\"><span class=\"ui-badge\">637</span></p><p class=\"info t-small\">Looking for some help at home or in your business, then look no further, there are hundreds of business services on offer across Ghana listed here.</p></div><div class=\"col-12 lg-3\"><h4 class=\"menu-item-header\"><a class=\"t-bold\" href=\"/en/ads/ghana/services\"><span class=\"ui-sprite categories-36 services\"></span><span>Services</span></a></h4><p class=\"count\"><span class=\"ui-badge\">460</span></p><p class=\"info t-small\">Browse through a range of service based companies offering services to both other businesses and consumers alike.</p></div><div class=\"col-12 lg-3\"><h4 class=\"menu-item-header\"><a class=\"t-bold\" href=\"/en/ads/ghana/overseas-jobs\"><span class=\"ui-sprite categories-36 overseas_jobs\"></span><span>Overseas jobs</span></a></h4><p class=\"count\"><span class=\"ui-badge\">301</span></p><p class=\"info t-small\">Apply for overseas jobs, browse a range of quality international job vacancies in your dream location.</p></div><div class=\"col-12 lg-3\"><h4 class=\"menu-item-header\"><a class=\"t-bold\" href=\"/en/ads/ghana/food-agriculture\"><span class=\"ui-sprite categories-36 food\"></span><span>Food &amp; Agriculture</span></a></h4><p class=\"count\"><span class=\"ui-badge\">257</span></p><p class=\"info t-small\">Find food and edible products, including fresh fruits and vegetables, meats, fish, seafood, crop seeds, plants and other agricultural products in Ghana.</p></div></div><div class=\"row lg-g\"><div class=\"col-12 lg-3\"><h4 class=\"menu-item-header\"><a class=\"t-bold\" href=\"/en/ads/ghana/other\"><span class=\"ui-sprite categories-36 other\"></span><span>Other</span></a></h4><p class=\"count\"><span class=\"ui-badge\">188</span></p><p class=\"info t-small\">Classified ads for miscellaneous products and items all over Ghana. Buy and sell almost anything.</p></div><div class=\"col-12 lg-3\"><h4 class=\"menu-item-header\"><a class=\"t-bold\" href=\"/en/ads/ghana/education\"><span class=\"ui-sprite categories-36 education\"></span><span>Education</span></a></h4><p class=\"count\"><span class=\"ui-badge\">48</span></p><p class=\"info t-small\">Buy and sell books and magazines, find tuition, classes and other educational resources in Ghana.</p></div></div></div></div></div><div class=\"post-cta t-center\"><p class=\"h1\">Do you have something to sell?</p><p class=\"h3\">Post your ad on Tonaton.com</p><p class=\"gtm-postad\"><svg class=\"ui-icon i-pointer-l\"><use xlink:href=\"#i-pointer-l\"></use></svg><a class=\"ui-btn is-primary gtm-postad\" href=\"/en/post-ad\" rel=\"nofollow\">Post an ad now!</a><svg class=\"ui-icon i-pointer-r\"><use xlink:href=\"#i-pointer-r\"></use></svg></p></div><div id=\"fb-root\"></div></div></div><div class=\"app-footer container\"><div class=\"row lg-g\"><nav class=\"footer-intro ui-nav-links col-12 lg-4\"><p class=\"title\">Download our app</p><ul><li class=\"gtm-hamburger-download-app\"><a class=\"app-android gtm-hamburger-download-app\" href=\"https://play.google.com/store/apps/details?id=com.tonaton&amp;referrer=utm_source%3D(direct)%26utm_medium%3Dfooter_banner%26utm_campaign%3Dandroid_app\" rel=\"nofollow\" target=\"_blank\"><img data-srcset=\"https://w.tonaton-st.com/dist/img/all/app/android-a9c12585.png 1x, https://w.tonaton-st.com/dist/img/all/app/android-2x-f6e6a4fb.png 1.3x\" height=\"41\" width=\"136\"/></a></li><li class=\"gtm-hamburger-download-app\"><a class=\"app-ios gtm-hamburger-download-app\" href=\"https://itunes.apple.com/us/app/tonaton/id991709753\" rel=\"nofollow\" target=\"_blank\"><img data-srcset=\"https://w.tonaton-st.com/dist/img/all/app/ios-f93749bf.png 1x, https://w.tonaton-st.com/dist/img/all/app/ios-2x-5670037f.png 1.3x\" height=\"41\" width=\"136\"/></a></li></ul><p class=\"title\">Connect with us</p><a class=\"ui-social-btn is-fb gtm-like-us-fb\" href=\"https://www.facebook.com/tonatoncom\" rel=\"nofollow\" target=\"_blank\"><span class=\"icon gtm-like-us-fb\"><svg class=\"ui-icon i-facebook is-l\"><use xlink:href=\"#i-facebook\"></use></svg></span><span class=\"gtm-like-us-fb text\">Like us on Facebook</span></a></nav><nav class=\"ui-nav-links col-12 lg-2\"><p class=\"title\">Learn More</p><ul><li class=\"ui-nav-item\"><a href=\"/en/help/sell-fast#help-content\" rel=\"\" target=\"\"><span class=\"hide-for-inactive\">How to sell fast</span></a></li><li class=\"ui-nav-item\"><a href=\"/en/buy-now\" rel=\"\" target=\"\"><span class=\"hide-for-inactive\">Buy Now on Tonaton.com</span></a></li><li class=\"ui-nav-item\"><a href=\"/en/membership\" rel=\"\" target=\"\"><span class=\"hide-for-inactive\">Membership</span></a></li><li class=\"ui-nav-item\"><a href=\"/en/advertising\" rel=\"\" target=\"\"><span class=\"hide-for-inactive\">Banner Advertising</span></a></li><li class=\"ui-nav-item\"><a href=\"/en/promotions\" rel=\"\" target=\"\"><span class=\"hide-for-inactive\">Promote your ad</span></a></li></ul></nav><nav class=\"ui-nav-links col-12 lg-2\"><p class=\"title\">Help &amp; Support</p><ul><li class=\"ui-nav-item\"><a href=\"/en/help/faq#help-content\" rel=\"\" target=\"\"><span class=\"hide-for-inactive\">FAQ</span></a></li><li class=\"ui-nav-item\"><a href=\"/en/help/stay-safe#help-content\" rel=\"\" target=\"\"><span class=\"hide-for-inactive\">Stay safe on Tonaton.com</span></a></li><li class=\"ui-nav-item\"><a href=\"/en/help/contact#help-content\" rel=\"\" target=\"\"><span class=\"hide-for-inactive\">Contact us</span></a></li></ul></nav><nav class=\"ui-nav-links col-12 lg-2\"><p class=\"title\">Social</p><ul><li class=\"ui-nav-item blog-url\"><a href=\"http://blog.tonaton.com\">Blog</a></li><li class=\"ui-nav-item social-facebook\"><a href=\"https://www.facebook.com/tonatoncom\" rel=\"nofollow\" target=\"_blank\">Facebook</a></li><li class=\"ui-nav-item social-twitter\"><a href=\"https://twitter.com/tonatonghana\" rel=\"nofollow\" target=\"_blank\">Twitter</a></li><li class=\"ui-nav-item social-youtube\"><a href=\"https://www.youtube.com/user/Tonatonclassifieds\" rel=\"nofollow\" target=\"_blank\">YouTube</a></li></ul></nav><nav class=\"ui-nav-links col-12 lg-2\"><p class=\"title\">About us</p><ul><li class=\"ui-nav-item\"><a href=\"/en/help/about#help-content\" rel=\"\" target=\"\"><span class=\"hide-for-inactive\">About us</span></a></li><li class=\"ui-nav-item\"><a class=\"careers\" href=\"http://tonaton.com/en/shops/tonaton-jobs\">Career</a></li><li class=\"ui-nav-item\"><a href=\"/en/terms\" rel=\"nofollow\" target=\"\"><span class=\"hide-for-inactive\">Terms &amp; Conditions</span></a></li><li class=\"ui-nav-item\"><a href=\"/en/privacy\" rel=\"nofollow\" target=\"\"><span class=\"hide-for-inactive\">Privacy Policy</span></a></li><li class=\"ui-nav-item\"><a href=\"/en/sitemap\" rel=\"\" target=\"\"><span class=\"hide-for-inactive\">Sitemap</span></a></li></ul></nav></div><div class=\"footer-final row\"><div class=\"col-8 copyright\">Copyright © Saltside Technologies</div><div class=\"col-4 logo\"><img data-srcset=\"https://w.tonaton-st.com/dist/img/tonaton/all/logos/footer-107a9aa6.png 1x, https://w.tonaton-st.com/dist/img/tonaton/all/logos/footer-2x-91be67a9.png 1.3x\" height=\"18\"/></div></div></div><script type=\"application/ld+json\">{\"@context\":\"http://schema.org\",\"@type\":\"WebSite\",\"name\":\"Tonaton\",\"url\":\"https://tonaton.com\",\"image\":\"https://w.tonaton-st.com/dist/img/tonaton/all/logos/footer-2x-91be67a9.png\",\"potentialAction\":[{\"@type\":\"SearchAction\",\"target\":\"https://tonaton.com/bn/ads?query={search_term_string}\",\"query-input\":\"required name=search_term_string\"},{\"@type\":\"SearchAction\",\"target\":\"android-app://com.tonaton/tonaton/ads?query={search_term_string}\",\"query-input\":\"required name=search_term_string\"}],\"description\":\"Buy and sell everything from second-hand cars to mobile phones, or even find a new home. Find a great deal close to you, or search all of Ghana.\"}</script><script type=\"application/ld+json\">{\"@context\":\"http://schema.org\",\"@type\":\"Organization\",\"name\":\"Tonaton\",\"url\":\"https://tonaton.com\",\"logo\":\"https://w.tonaton-st.com/dist/img/tonaton/all/logos/footer-2x-91be67a9.png\",\"contactPoint\":{\"@type\":\"ContactPoint\",\"telephone\":\"+233302 746 911\",\"contactType\":\"Customer Service\"},\"sameAs\":[\"https://www.facebook.com/tonatoncom\",\"https://twitter.com/TonatonGhana\",\"https://www.linkedin.com/company/tonaton-com\",\"https://en.wikipedia.org/wiki/Tonaton.com\"]}</script><script>window.PLATFORM = CONFIG.platform = 'lg';\n",
       "CONFIG.locale = 'en';\n",
       "CONFIG.FACEBOOK_APP_ID = '1428662334112639';</script><script>CONFIG.publishKey = 'pub-c-0ee9bd9d-a4f5-496f-b4a1-b5df9752fd71';\n",
       "CONFIG.subscribeKey = 'sub-c-0febd3a0-cada-11e9-93da-dae13b67b174';</script><script src=\"https://w.tonaton-st.com/dist/15734566/js/lg/home.js\"></script><script type=\"text/javascript\">gtmData.push({\"userAuthenticated\":\"no\",\"platform\":\"lg\"})</script><script>(function(w,d,s,l,i){w[l]=w[l]||[];w[l].push({'gtm.start':new Date().getTime(),event:'gtm.js'});var f=d.getElementsByTagName(s)[0],j=d.createElement(s),dl=l!='dataLayer'?'&l='+l:'';j.async=true;j.src='//www.googletagmanager.com/gtm.js?id='+i+dl;f.parentNode.insertBefore(j,f);})(window,document,'script','gtmData','GTM-TBL3FB');</script><!-- 2019-11-11T12:27:16.218Z --></body></html>"
      ]
     },
     "execution_count": 7,
     "metadata": {},
     "output_type": "execute_result"
    }
   ],
   "source": [
    "soup"
   ]
  },
  {
   "cell_type": "code",
   "execution_count": 8,
   "metadata": {},
   "outputs": [
    {
     "data": {
      "text/plain": [
       "<title>Tonaton.com - Electronics, Cars, Property and Jobs in Ghana</title>"
      ]
     },
     "execution_count": 8,
     "metadata": {},
     "output_type": "execute_result"
    }
   ],
   "source": [
    "#Finding title of the webpage using BeautifulSoup\n",
    "soup.title"
   ]
  },
  {
   "cell_type": "code",
   "execution_count": 9,
   "metadata": {},
   "outputs": [
    {
     "data": {
      "text/plain": [
       "'Tonaton.com - Electronics, Cars, Property and Jobs in Ghana'"
      ]
     },
     "execution_count": 9,
     "metadata": {},
     "output_type": "execute_result"
    }
   ],
   "source": [
    "#Just extracting the text from title tag\n",
    "soup.title.text"
   ]
  },
  {
   "cell_type": "code",
   "execution_count": 10,
   "metadata": {},
   "outputs": [
    {
     "data": {
      "text/plain": [
       "<a href=\"/\">Tonaton.com</a>"
      ]
     },
     "execution_count": 10,
     "metadata": {},
     "output_type": "execute_result"
    }
   ],
   "source": [
    "#Finding the first occurence of an HTML tag.\n",
    "soup.find('a')"
   ]
  },
  {
   "cell_type": "code",
   "execution_count": 11,
   "metadata": {},
   "outputs": [
    {
     "data": {
      "text/plain": [
       "[<p>Buy and sell everything from used cars to mobile phones and computers, or search for property, jobs and more <strong>in Ghana</strong>!</p>,\n",
       " <p class=\"h3\">Cities</p>,\n",
       " <p class=\"h3\">Regions</p>,\n",
       " <p class=\"title\">Browse our top categories:</p>,\n",
       " <p class=\"h5\">Stay safe while trading!</p>,\n",
       " <p>For your safety, Tonaton verifies ad posters by Voter ID. <a href=\"/en/help/stay-safe\">Read our tips</a> on how to make safe deals.</p>,\n",
       " <p class=\"title\"><a href=\"https://www.facebook.com/tonatoncom\" rel=\"nofollow\" target=\"_blank\"><svg class=\"ui-icon i-facebook\"><use xlink:href=\"#i-facebook\"></use></svg> Like us on Facebook</a></p>,\n",
       " <p class=\"count\"><span class=\"ui-badge\">32,088</span></p>,\n",
       " <p class=\"info t-small\">Find great deals for used electronics in Ghana including mobile phones, computers, laptops, TVs, home theatres and much more.</p>,\n",
       " <p class=\"count\"><span class=\"ui-badge\">17,493</span></p>,\n",
       " <p class=\"info t-small\">View listings for property in Ghana. Find the cheapest rates for apartments, commercial and residential property, as well as for land and plots.</p>,\n",
       " <p class=\"count\"><span class=\"ui-badge\">16,444</span></p>,\n",
       " <p class=\"info t-small\">You will find everything for the home and garden here including furniture, kitchenware and gardening products.</p>,\n",
       " <p class=\"count\"><span class=\"ui-badge\">12,185</span></p>,\n",
       " <p class=\"info t-small\">Buy and sell used cars, motorbikes and other vehicles in Ghana. Choose from top brands including Toyota, Nissan, Honda and Suzuki.</p>,\n",
       " <p class=\"count\"><span class=\"ui-badge\">9,515</span></p>,\n",
       " <p class=\"info t-small\">Choose from a wide range of clothing items, health and beauty products and everything else you need to keep yourself looking stylish.</p>,\n",
       " <p class=\"count\"><span class=\"ui-badge\">2,913</span></p>,\n",
       " <p class=\"info t-small\">Buy and sell used musical instruments, sports gear and accessories, art and collectibles as well as a whole range of items for kids.</p>,\n",
       " <p class=\"count\"><span class=\"ui-badge\">1,059</span></p>,\n",
       " <p class=\"info t-small\">Post and apply for jobs and career opportunities in Ghana. Search for job vacancies in your city.</p>,\n",
       " <p class=\"count\"><span class=\"ui-badge\">884</span></p>,\n",
       " <p class=\"info t-small\">Search from the widest variety of pets in Ghana. Choose from dogs, puppies, cats, kittens, birds and other domesticated animals as well as farm animals.</p>,\n",
       " <p class=\"count\"><span class=\"ui-badge\">637</span></p>,\n",
       " <p class=\"info t-small\">Looking for some help at home or in your business, then look no further, there are hundreds of business services on offer across Ghana listed here.</p>,\n",
       " <p class=\"count\"><span class=\"ui-badge\">460</span></p>,\n",
       " <p class=\"info t-small\">Browse through a range of service based companies offering services to both other businesses and consumers alike.</p>,\n",
       " <p class=\"count\"><span class=\"ui-badge\">301</span></p>,\n",
       " <p class=\"info t-small\">Apply for overseas jobs, browse a range of quality international job vacancies in your dream location.</p>,\n",
       " <p class=\"count\"><span class=\"ui-badge\">257</span></p>,\n",
       " <p class=\"info t-small\">Find food and edible products, including fresh fruits and vegetables, meats, fish, seafood, crop seeds, plants and other agricultural products in Ghana.</p>,\n",
       " <p class=\"count\"><span class=\"ui-badge\">188</span></p>,\n",
       " <p class=\"info t-small\">Classified ads for miscellaneous products and items all over Ghana. Buy and sell almost anything.</p>,\n",
       " <p class=\"count\"><span class=\"ui-badge\">48</span></p>,\n",
       " <p class=\"info t-small\">Buy and sell books and magazines, find tuition, classes and other educational resources in Ghana.</p>,\n",
       " <p class=\"h1\">Do you have something to sell?</p>,\n",
       " <p class=\"h3\">Post your ad on Tonaton.com</p>,\n",
       " <p class=\"gtm-postad\"><svg class=\"ui-icon i-pointer-l\"><use xlink:href=\"#i-pointer-l\"></use></svg><a class=\"ui-btn is-primary gtm-postad\" href=\"/en/post-ad\" rel=\"nofollow\">Post an ad now!</a><svg class=\"ui-icon i-pointer-r\"><use xlink:href=\"#i-pointer-r\"></use></svg></p>,\n",
       " <p class=\"title\">Download our app</p>,\n",
       " <p class=\"title\">Connect with us</p>,\n",
       " <p class=\"title\">Learn More</p>,\n",
       " <p class=\"title\">Help &amp; Support</p>,\n",
       " <p class=\"title\">Social</p>,\n",
       " <p class=\"title\">About us</p>]"
      ]
     },
     "execution_count": 11,
     "metadata": {},
     "output_type": "execute_result"
    }
   ],
   "source": [
    "#Finding all the occurence of an HTML tag\n",
    "soup.find_all('p')"
   ]
  },
  {
   "cell_type": "code",
   "execution_count": 12,
   "metadata": {},
   "outputs": [
    {
     "name": "stdout",
     "output_type": "stream",
     "text": [
      "Buy and sell everything from used cars to mobile phones and computers, or search for property, jobs and more in Ghana!\n",
      "Cities\n",
      "Regions\n",
      "Browse our top categories:\n",
      "Stay safe while trading!\n",
      "For your safety, Tonaton verifies ad posters by Voter ID. Read our tips on how to make safe deals.\n",
      " Like us on Facebook\n",
      "32,088\n",
      "Find great deals for used electronics in Ghana including mobile phones, computers, laptops, TVs, home theatres and much more.\n",
      "17,493\n",
      "View listings for property in Ghana. Find the cheapest rates for apartments, commercial and residential property, as well as for land and plots.\n",
      "16,444\n",
      "You will find everything for the home and garden here including furniture, kitchenware and gardening products.\n",
      "12,185\n",
      "Buy and sell used cars, motorbikes and other vehicles in Ghana. Choose from top brands including Toyota, Nissan, Honda and Suzuki.\n",
      "9,515\n",
      "Choose from a wide range of clothing items, health and beauty products and everything else you need to keep yourself looking stylish.\n",
      "2,913\n",
      "Buy and sell used musical instruments, sports gear and accessories, art and collectibles as well as a whole range of items for kids.\n",
      "1,059\n",
      "Post and apply for jobs and career opportunities in Ghana. Search for job vacancies in your city.\n",
      "884\n",
      "Search from the widest variety of pets in Ghana. Choose from dogs, puppies, cats, kittens, birds and other domesticated animals as well as farm animals.\n",
      "637\n",
      "Looking for some help at home or in your business, then look no further, there are hundreds of business services on offer across Ghana listed here.\n",
      "460\n",
      "Browse through a range of service based companies offering services to both other businesses and consumers alike.\n",
      "301\n",
      "Apply for overseas jobs, browse a range of quality international job vacancies in your dream location.\n",
      "257\n",
      "Find food and edible products, including fresh fruits and vegetables, meats, fish, seafood, crop seeds, plants and other agricultural products in Ghana.\n",
      "188\n",
      "Classified ads for miscellaneous products and items all over Ghana. Buy and sell almost anything.\n",
      "48\n",
      "Buy and sell books and magazines, find tuition, classes and other educational resources in Ghana.\n",
      "Do you have something to sell?\n",
      "Post your ad on Tonaton.com\n",
      "Post an ad now!\n",
      "Download our app\n",
      "Connect with us\n",
      "Learn More\n",
      "Help & Support\n",
      "Social\n",
      "About us\n"
     ]
    }
   ],
   "source": [
    "#Print all the text within paragraph tags (p)\n",
    "for tag in soup.find_all('p'):\n",
    "    print(tag.text)"
   ]
  },
  {
   "cell_type": "code",
   "execution_count": 13,
   "metadata": {},
   "outputs": [],
   "source": [
    "#Scraping House Listings on Tonaton.\n",
    "results = requests.get('https://tonaton.com/en/ads/ghana/houses')\n",
    "soup = BeautifulSoup(results.content, 'lxml')"
   ]
  },
  {
   "cell_type": "code",
   "execution_count": 14,
   "metadata": {},
   "outputs": [],
   "source": [
    "#Let's find all listings with a class 'normal-......'\n",
    "listings = soup.find_all('li', {'class': 'normal--2QYVk gtm-normal-ad'})"
   ]
  },
  {
   "cell_type": "code",
   "execution_count": 15,
   "metadata": {},
   "outputs": [
    {
     "data": {
      "text/plain": [
       "<li class=\"normal--2QYVk gtm-normal-ad\"><a class=\"card-link--3ssYv\" href=\"/en/ad/executive-4-bed-house-for-sale-at-botwe-for-sale-accra\" title=\"Executive 4 Bed House For Sale At Botwe\"><div class=\"container--2uFyv\"><div class=\"image--2hizm\"><img alt=\"Executive 4 Bed House For Sale At Botwe\" class=\"normal-ad--1TyjD\" src=\"https://i.tonaton-st.com/de1ef34f-c8f4-4fe0-8310-dedc40dbae85/142/107/cropped.jpg\"/></div><div class=\"content--3JNQz\"><span class=\"title--3yncE\">Executive 4 Bed House For Sale At Botwe</span><div><div>Beds: 4, Baths: 5</div><div class=\"sub-title--1nbZO\"><div class=\"membership-container--1hm7D\"><div class=\"icon--3D09z extra-small--_AIuZ premium-icon--1q8GP\"><svg class=\"svg-wrapper--8ky9e\" height=\"18\" viewbox=\"0 0 18 18\" width=\"18\"><g fill=\"none\" fill-rule=\"evenodd\"><circle cx=\"9\" cy=\"9\" fill=\"#FFC800\" r=\"8.64\"></circle><path d=\"M9 11.831L5.877 13.68l.828-3.467L3.96 7.88l3.62-.3L9 4.32l1.42 3.259 3.62.3-2.745 2.334.828 3.467z\" fill=\"#FFF\" fill-rule=\"nonzero\"></path></g></svg></div><div class=\"premium-member--3Qd1D\">MEMBER</div></div><div class=\"description--2-ez3\">Accra, Houses</div></div><div class=\"price--3SnqI color--t0tGX\"><span>GH₵ 924,000</span></div></div><div class=\"updated-time--1DbCk\">14 minutes</div></div></div></a></li>"
      ]
     },
     "execution_count": 15,
     "metadata": {},
     "output_type": "execute_result"
    }
   ],
   "source": [
    "listings[0]"
   ]
  },
  {
   "cell_type": "code",
   "execution_count": 16,
   "metadata": {},
   "outputs": [
    {
     "data": {
      "text/plain": [
       "'FOUR BEDROOM HOUSE WITH A LAND FOR SALE AT ABUAKWA-KUMASIBeds: 4, Baths: 4Kumasi, HousesGH₵ 720,0003 hours'"
      ]
     },
     "execution_count": 16,
     "metadata": {},
     "output_type": "execute_result"
    }
   ],
   "source": [
    "listings[21].text"
   ]
  },
  {
   "cell_type": "code",
   "execution_count": 17,
   "metadata": {},
   "outputs": [
    {
     "name": "stdout",
     "output_type": "stream",
     "text": [
      "Executive 4 Bed House For Sale At BotweBeds: 4, Baths: 5MEMBERAccra, HousesGH₵ 924,00014 minutes\n",
      "Executive 3 Bed For Sale At AjiriganorBeds: 3, Baths: 4MEMBERAccra, HousesGH₵ 825,00021 minutes\n",
      "newly 4bedroom selfcompound spintexBeds: 4, Baths: 3MEMBERAccra, HousesGH₵ 990,00023 minutes\n",
      "7 Bedroom Commercial/Residential House for sale @AdjiringanorBeds: 7, Baths: 6Accra, HousesGH₵ 1,990,000\n",
      "A BEAUTIFUL 3 BEDROOM HOUSE IN SECURED COMMUNITY OF DEVTRACO FOR SALEBeds: 3, Baths: 2Greater Accra, HousesGH₵ 645,00041 minutes\n",
      "EXECUTIVE 2 BEDROOM HOUSE 4 SALE SPINTEXBeds: 2, Baths: 2MEMBERAccra, HousesGH₵ 350,00041 minutes\n",
      "House for sale at Mahamma Road RoundBeds: 3, Baths: 3MEMBERAccra, HousesGH₵ 128,5001 hour\n",
      "Titled Land for Sale @ OyarifaBeds: 2, Baths: 3Accra, HousesGH₵ 100,000\n",
      "Exceutive 9 Bedroom Duplex Mansion 4 Sale At KasoaBeds: 9, Baths: 10+MEMBERCentral, HousesGH₵ 750,0001 hour\n",
      "3 Bedroom Bungalow for sale in LakesideBeds: 3, Baths: 2MEMBERAccra, HousesGH₵ 540,0001 hour\n",
      "HOUSE AT WEST LEGONBeds: 4, Baths: 5MEMBERAccra, HousesGH₵ 880,8801 hour\n",
      "House for sale at TeshieBeds: 5, Baths: 5MEMBERAccra, HousesGH₵ 700,0001 hour\n",
      "EXEC 4 B/R HOUSE 1 BQS AT WEST LEGONBeds: 4, Baths: 5MEMBERAccra, HousesGH₵ 1,431,4302 hours\n",
      "flabagasting newly built 3bedrm house spintexBeds: 3, Baths: 2MEMBERAccra, HousesGH₵ 700,0002 hours\n",
      "Awesome 4 Bedroom House & 1B's Qtrs Selling East LegonBeds: 4, Baths: 5MEMBERAccra, HousesGH₵ 1,944,0002 hours\n",
      "5 BEDROOM HOUSE FOR SALE Regimanuel com 18Beds: 5, Baths: 5MEMBERAccra, HousesGH₵ 795,0002 hours\n",
      "FLABBERGASTING 3BEDRMS,4WASHRMS HSE 4SALE,SPINTEXBeds: 3, Baths: 4MEMBERAccra, HousesGH₵ 600,0002 hours\n",
      "Luxurious 3 Bedrm 4Sale @East Legon HillsBeds: 3, Baths: 4MEMBERAccra, HousesGH₵ 576,0002 hours\n",
      "4 Bedroom House for sale at AdentanBeds: 4, Baths: 5MEMBERAccra, HousesGH₵ 1,350,0002 hours\n",
      "Exe. 4 bedrooms house + pool at DzorwuluBeds: 4, Baths: 5MEMBERAccra, HousesGH₵ 3,700,0002 hours\n",
      "4 Bedroom House with 1 Staff quarters for Sale East LegonBeds: 4, Baths: 5MEMBERAccra, HousesGH₵ 2,430,0002 hours\n",
      "FOUR BEDROOM HOUSE WITH A LAND FOR SALE AT ABUAKWA-KUMASIBeds: 4, Baths: 4Kumasi, HousesGH₵ 720,0003 hours\n",
      "3 bedrooms house for sale at Ashongman Estate.Beds: 3, Baths: 3MEMBERAccra, HousesGH₵ 715,5003 hours\n",
      "2 bedroom house for sale LakesideBeds: 2, Baths: 1MEMBERAccra, HousesGH₵ 235,000\n"
     ]
    }
   ],
   "source": [
    "for house in listings:\n",
    "    print(house.text)"
   ]
  },
  {
   "cell_type": "code",
   "execution_count": 18,
   "metadata": {},
   "outputs": [
    {
     "data": {
      "text/plain": [
       "['7 Bedroom Commercial/Residential House for sale @AdjiringanorBeds: 7',\n",
       " ' Baths: 6Accra',\n",
       " ' HousesGH₵ 1',\n",
       " '990',\n",
       " '000']"
      ]
     },
     "execution_count": 18,
     "metadata": {},
     "output_type": "execute_result"
    }
   ],
   "source": [
    "#The results above need to be split into the following columns\n",
    "# Property Description, Beds, Baths, Price\n",
    "#Let's split on the comma first to see if we'll get what we need.\n",
    "listings[3].text.split(',')"
   ]
  },
  {
   "cell_type": "code",
   "execution_count": 19,
   "metadata": {},
   "outputs": [],
   "source": [
    "import re"
   ]
  },
  {
   "cell_type": "code",
   "execution_count": 20,
   "metadata": {},
   "outputs": [
    {
     "data": {
      "text/plain": [
       "'FOUR BEDROOM HOUSE WITH A LAND FOR SALE AT ABUAKWA-KUMASI, Beds: 4, Baths: 4Kumasi, HousesGH₵ 720,0003 hours'"
      ]
     },
     "execution_count": 20,
     "metadata": {},
     "output_type": "execute_result"
    }
   ],
   "source": [
    "#We'll replace 'Beds:' with ',Beds:' \n",
    "listings[21].text.replace('Beds: ', ', Beds: ')"
   ]
  },
  {
   "cell_type": "code",
   "execution_count": 22,
   "metadata": {},
   "outputs": [
    {
     "data": {
      "text/plain": [
       "'FOUR BEDROOM HOUSE WITH A LAND FOR SALE AT ABUAKWA-KUMASIBeds: 4, Baths: 4, Kumasi, HousesGH₵ 720,0003 hours'"
      ]
     },
     "execution_count": 22,
     "metadata": {},
     "output_type": "execute_result"
    }
   ],
   "source": [
    "#Let's replace 'Baths' since we still do not have what we need.\n",
    "re.sub(r'Baths: (\\d+)', r'Baths: \\1, ', listings[21].text)"
   ]
  },
  {
   "cell_type": "code",
   "execution_count": 23,
   "metadata": {},
   "outputs": [],
   "source": [
    "#We can now place each method in a function that we know cleans the whole listing.\n",
    "def clean(text):\n",
    "    text = text.replace('Beds: ', ', Beds: ')\n",
    "    text = re.sub(r'Baths: (\\d+)', r'Baths: \\1, ', text)\n",
    "    text = text.split(',')\n",
    "    return text"
   ]
  },
  {
   "cell_type": "code",
   "execution_count": 24,
   "metadata": {},
   "outputs": [
    {
     "name": "stdout",
     "output_type": "stream",
     "text": [
      "['Executive 4 Bed House For Sale At Botwe', ' Beds: 4', ' Baths: 5', ' MEMBERAccra', ' HousesGH₵ 924', '00014 minutes']\n",
      "['Executive 3 Bed For Sale At Ajiriganor', ' Beds: 3', ' Baths: 4', ' MEMBERAccra', ' HousesGH₵ 825', '00021 minutes']\n",
      "['newly 4bedroom selfcompound spintex', ' Beds: 4', ' Baths: 3', ' MEMBERAccra', ' HousesGH₵ 990', '00023 minutes']\n",
      "['7 Bedroom Commercial/Residential House for sale @Adjiringanor', ' Beds: 7', ' Baths: 6', ' Accra', ' HousesGH₵ 1', '990', '000']\n",
      "['A BEAUTIFUL 3 BEDROOM HOUSE IN SECURED COMMUNITY OF DEVTRACO FOR SALE', ' Beds: 3', ' Baths: 2', ' Greater Accra', ' HousesGH₵ 645', '00041 minutes']\n",
      "['EXECUTIVE 2 BEDROOM HOUSE 4 SALE SPINTEX', ' Beds: 2', ' Baths: 2', ' MEMBERAccra', ' HousesGH₵ 350', '00041 minutes']\n",
      "['House for sale at Mahamma Road Round', ' Beds: 3', ' Baths: 3', ' MEMBERAccra', ' HousesGH₵ 128', '5001 hour']\n",
      "['Titled Land for Sale @ Oyarifa', ' Beds: 2', ' Baths: 3', ' Accra', ' HousesGH₵ 100', '000']\n",
      "['Exceutive 9 Bedroom Duplex Mansion 4 Sale At Kasoa', ' Beds: 9', ' Baths: 10', ' +MEMBERCentral', ' HousesGH₵ 750', '0001 hour']\n",
      "['3 Bedroom Bungalow for sale in Lakeside', ' Beds: 3', ' Baths: 2', ' MEMBERAccra', ' HousesGH₵ 540', '0001 hour']\n",
      "['HOUSE AT WEST LEGON', ' Beds: 4', ' Baths: 5', ' MEMBERAccra', ' HousesGH₵ 880', '8801 hour']\n",
      "['House for sale at Teshie', ' Beds: 5', ' Baths: 5', ' MEMBERAccra', ' HousesGH₵ 700', '0001 hour']\n",
      "['EXEC 4 B/R HOUSE 1 BQS AT WEST LEGON', ' Beds: 4', ' Baths: 5', ' MEMBERAccra', ' HousesGH₵ 1', '431', '4302 hours']\n",
      "['flabagasting newly built 3bedrm house spintex', ' Beds: 3', ' Baths: 2', ' MEMBERAccra', ' HousesGH₵ 700', '0002 hours']\n",
      "[\"Awesome 4 Bedroom House & 1B's Qtrs Selling East Legon\", ' Beds: 4', ' Baths: 5', ' MEMBERAccra', ' HousesGH₵ 1', '944', '0002 hours']\n",
      "['5 BEDROOM HOUSE FOR SALE Regimanuel com 18', ' Beds: 5', ' Baths: 5', ' MEMBERAccra', ' HousesGH₵ 795', '0002 hours']\n",
      "['FLABBERGASTING 3BEDRMS', '4WASHRMS HSE 4SALE', 'SPINTEX', ' Beds: 3', ' Baths: 4', ' MEMBERAccra', ' HousesGH₵ 600', '0002 hours']\n",
      "['Luxurious 3 Bedrm 4Sale @East Legon Hills', ' Beds: 3', ' Baths: 4', ' MEMBERAccra', ' HousesGH₵ 576', '0002 hours']\n",
      "['4 Bedroom House for sale at Adentan', ' Beds: 4', ' Baths: 5', ' MEMBERAccra', ' HousesGH₵ 1', '350', '0002 hours']\n",
      "['Exe. 4 bedrooms house + pool at Dzorwulu', ' Beds: 4', ' Baths: 5', ' MEMBERAccra', ' HousesGH₵ 3', '700', '0002 hours']\n",
      "['4 Bedroom House with 1 Staff quarters for Sale East Legon', ' Beds: 4', ' Baths: 5', ' MEMBERAccra', ' HousesGH₵ 2', '430', '0002 hours']\n",
      "['FOUR BEDROOM HOUSE WITH A LAND FOR SALE AT ABUAKWA-KUMASI', ' Beds: 4', ' Baths: 4', ' Kumasi', ' HousesGH₵ 720', '0003 hours']\n",
      "['3 bedrooms house for sale at Ashongman Estate.', ' Beds: 3', ' Baths: 3', ' MEMBERAccra', ' HousesGH₵ 715', '5003 hours']\n",
      "['2 bedroom house for sale Lakeside', ' Beds: 2', ' Baths: 1', ' MEMBERAccra', ' HousesGH₵ 235', '000']\n"
     ]
    }
   ],
   "source": [
    "for house in listings:\n",
    "    print(clean(house.text))"
   ]
  },
  {
   "cell_type": "code",
   "execution_count": null,
   "metadata": {},
   "outputs": [],
   "source": []
  },
  {
   "cell_type": "code",
   "execution_count": null,
   "metadata": {},
   "outputs": [],
   "source": []
  }
 ],
 "metadata": {
  "kernelspec": {
   "display_name": "Python 3",
   "language": "python",
   "name": "python3"
  },
  "language_info": {
   "codemirror_mode": {
    "name": "ipython",
    "version": 3
   },
   "file_extension": ".py",
   "mimetype": "text/x-python",
   "name": "python",
   "nbconvert_exporter": "python",
   "pygments_lexer": "ipython3",
   "version": "3.6.8"
  }
 },
 "nbformat": 4,
 "nbformat_minor": 2
}
