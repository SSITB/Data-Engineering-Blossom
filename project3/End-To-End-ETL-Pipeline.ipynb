{
 "cells": [
  {
   "cell_type": "code",
   "execution_count": 1,
   "metadata": {},
   "outputs": [],
   "source": [
    "import pyspark\n",
    "from pyspark.sql.types import BooleanType\n",
    "from pyspark.sql.functions import udf\n",
    "from pyspark.sql import functions as F\n",
    "from pyspark.sql import SparkSession\n",
    "from pyspark.sql import Window"
   ]
  },
  {
   "cell_type": "code",
   "execution_count": 2,
   "metadata": {},
   "outputs": [],
   "source": [
    "#Let us create our spark session\n",
    "spark = (\n",
    "    SparkSession.builder\n",
    "        .appName(\"Stack Overflow Data Wrangling\")\n",
    "        .config(\"spark.jars\", \"../jars/postgresql-42.2.8.jar\")\n",
    "        .getOrCreate()\n",
    ")"
   ]
  },
  {
   "cell_type": "markdown",
   "metadata": {},
   "source": [
    "### Step1: Data Extraction "
   ]
  },
  {
   "cell_type": "code",
   "execution_count": 3,
   "metadata": {},
   "outputs": [],
   "source": [
    "#Now let's load all the datasets we'll be using.\n",
    "answers = spark.read.csv(\"stackoverflow/answers.csv\", header=True, inferSchema=True, multiLine=True)\n",
    "questions = spark.read.csv(\"stackoverflow/questions.csv\",header=True, inferSchema=True, multiLine=True)\n",
    "users = spark.read.csv(\"stackoverflow/users.csv\",header=True, inferSchema=True, multiLine=True)\n",
    "questiontags = spark.read.csv(\"stackoverflow/question_tags.csv\", header=True, inferSchema=True, multiLine=True)"
   ]
  },
  {
   "cell_type": "code",
   "execution_count": 4,
   "metadata": {},
   "outputs": [
    {
     "data": {
      "text/plain": [
       "[('id', 'string'),\n",
       " ('user_id', 'string'),\n",
       " ('question_id', 'string'),\n",
       " ('body', 'string'),\n",
       " ('score', 'string'),\n",
       " ('comment_count', 'string'),\n",
       " ('created_at', 'string')]"
      ]
     },
     "execution_count": 4,
     "metadata": {},
     "output_type": "execute_result"
    }
   ],
   "source": [
    "answers.dtypes"
   ]
  },
  {
   "cell_type": "code",
   "execution_count": 5,
   "metadata": {},
   "outputs": [],
   "source": [
    "#Function to know the shape of our dataframes\n",
    "def spark_shape(self):\n",
    "    return(self.count(), len(self.columns))\n",
    "pyspark.sql.dataframe.DataFrame.shape = spark_shape"
   ]
  },
  {
   "cell_type": "code",
   "execution_count": 6,
   "metadata": {},
   "outputs": [
    {
     "data": {
      "text/plain": [
       "(9367215, 7)"
      ]
     },
     "execution_count": 6,
     "metadata": {},
     "output_type": "execute_result"
    }
   ],
   "source": [
    "#Let's see the total number of rows and columns\n",
    "answers.shape()"
   ]
  },
  {
   "cell_type": "code",
   "execution_count": 7,
   "metadata": {},
   "outputs": [
    {
     "data": {
      "text/plain": [
       "(6773193, 9)"
      ]
     },
     "execution_count": 7,
     "metadata": {},
     "output_type": "execute_result"
    }
   ],
   "source": [
    "#Let's see the shape of questions dataframe\n",
    "questions.shape()"
   ]
  },
  {
   "cell_type": "code",
   "execution_count": 8,
   "metadata": {},
   "outputs": [
    {
     "data": {
      "text/plain": [
       "(273489, 12)"
      ]
     },
     "execution_count": 8,
     "metadata": {},
     "output_type": "execute_result"
    }
   ],
   "source": [
    "#Let's see shape of users\n",
    "users.shape()"
   ]
  },
  {
   "cell_type": "code",
   "execution_count": 9,
   "metadata": {},
   "outputs": [
    {
     "data": {
      "text/plain": [
       "(633700, 2)"
      ]
     },
     "execution_count": 9,
     "metadata": {},
     "output_type": "execute_result"
    }
   ],
   "source": [
    "#Let's also see the shape of question_tags\n",
    "questiontags.shape()"
   ]
  },
  {
   "cell_type": "code",
   "execution_count": 10,
   "metadata": {},
   "outputs": [
    {
     "data": {
      "text/plain": [
       "['id',\n",
       " 'display_name',\n",
       " 'reputation',\n",
       " 'website_url',\n",
       " 'location',\n",
       " 'about_me',\n",
       " 'views',\n",
       " 'up_votes',\n",
       " 'down_votes',\n",
       " 'image_url',\n",
       " 'created_at',\n",
       " 'updated_at']"
      ]
     },
     "execution_count": 10,
     "metadata": {},
     "output_type": "execute_result"
    }
   ],
   "source": [
    "#Overview of the columns in users dataframe\n",
    "users.columns"
   ]
  },
  {
   "cell_type": "code",
   "execution_count": 11,
   "metadata": {},
   "outputs": [
    {
     "name": "stdout",
     "output_type": "stream",
     "text": [
      "Total Records of Users = 273489\n",
      "+-------+------------+----------+--------------------+--------------------+--------+-----+--------+----------+--------------------+-------------------+-------------------+\n",
      "|     id|display_name|reputation|         website_url|            location|about_me|views|up_votes|down_votes|           image_url|         created_at|         updated_at|\n",
      "+-------+------------+----------+--------------------+--------------------+--------+-----+--------+----------+--------------------+-------------------+-------------------+\n",
      "|8357266|      suryan|         7|https://twitter.c...|Bangalore, Karnat...|    null|    8|       0|         0|https://www.grava...|2017-07-24 10:55:23|2019-06-19 05:00:16|\n",
      "|2602456|         Avi|         1|https://avtechtoo...|              Canada|    null|    0|       0|         0|                null|2013-07-20 15:10:25|2019-07-08 20:43:40|\n",
      "+-------+------------+----------+--------------------+--------------------+--------+-----+--------+----------+--------------------+-------------------+-------------------+\n",
      "only showing top 2 rows\n",
      "\n"
     ]
    }
   ],
   "source": [
    "print('Total Records of Users = {}'.format(users.count()))\n",
    "users.show(2)"
   ]
  },
  {
   "cell_type": "code",
   "execution_count": 13,
   "metadata": {},
   "outputs": [
    {
     "name": "stdout",
     "output_type": "stream",
     "text": [
      "+--------------------+-----+\n",
      "|            location|count|\n",
      "+--------------------+-----+\n",
      "|  Nowshera, Pakistan|    1|\n",
      "|           Bangalore|  165|\n",
      "|San Francisco Bay...|   18|\n",
      "|Eden Prairie, MN,...|    4|\n",
      "|     Beograd, Serbia|    4|\n",
      "|Cluj-Napoca, Cluj...|   33|\n",
      "|Montreal, Quebec,...|    2|\n",
      "|                Utah|   46|\n",
      "| Aalsmeer, Nederland|    1|\n",
      "|    Tlemcen, Algérie|    2|\n",
      "|Tirupur, Tamil Na...|    4|\n",
      "|São Gonçalo, RJ, ...|    1|\n",
      "|       Suzhou, China|    3|\n",
      "|Izmir, İzmir, Turkey|   11|\n",
      "| Bayern, Deutschland|   16|\n",
      "|       Toruń, Polska|    4|\n",
      "|Newtown, Kolkata,...|    1|\n",
      "|  Verona, VR, Italia|   19|\n",
      "|Santa Marta, Magd...|    1|\n",
      "|           kathmandu|    5|\n",
      "+--------------------+-----+\n",
      "only showing top 20 rows\n",
      "\n",
      "None\n"
     ]
    }
   ],
   "source": [
    "#Let's see the distinct countries we have.\n",
    "countries = users.groupBy('location').count()\n",
    "print(countries.show())"
   ]
  },
  {
   "cell_type": "code",
   "execution_count": 14,
   "metadata": {
    "scrolled": true
   },
   "outputs": [
    {
     "name": "stdout",
     "output_type": "stream",
     "text": [
      "+------------------+--------------------+\n",
      "|      display_name|            location|\n",
      "+------------------+--------------------+\n",
      "|            suryan|Bangalore, Karnat...|\n",
      "|               Avi|              Canada|\n",
      "|              Matt|Pennsylvania, Uni...|\n",
      "|          Wing Fan|                null|\n",
      "|             A.Raw|New Delhi, Delhi,...|\n",
      "|           Ringo64|                null|\n",
      "|Hirotaka Nishimiya|          日本 Tōkyō|\n",
      "|           Anuroop|                null|\n",
      "|      Franco Buhay|                null|\n",
      "|     Kartik Juneja|Gharaunda, Haryan...|\n",
      "+------------------+--------------------+\n",
      "only showing top 10 rows\n",
      "\n"
     ]
    }
   ],
   "source": [
    "users.select('display_name', 'location').show(10)"
   ]
  },
  {
   "cell_type": "markdown",
   "metadata": {},
   "source": [
    "### Step2: Data Transformation"
   ]
  },
  {
   "cell_type": "code",
   "execution_count": 34,
   "metadata": {},
   "outputs": [],
   "source": [
    "users = users.withColumnRenamed('id', 'user_id').withColumnRenamed('created_at', 'user_created_at').withColumnRenamed('updated_at','user_updated_at')"
   ]
  },
  {
   "cell_type": "code",
   "execution_count": 35,
   "metadata": {},
   "outputs": [],
   "source": [
    "#Let's store users coming from Canada in a new dataframe called country\n",
    "country = users.where(users.location.contains('Canada'))"
   ]
  },
  {
   "cell_type": "code",
   "execution_count": 36,
   "metadata": {},
   "outputs": [
    {
     "name": "stdout",
     "output_type": "stream",
     "text": [
      "+--------------------+--------------------+\n",
      "|        display_name|            location|\n",
      "+--------------------+--------------------+\n",
      "|                 Avi|              Canada|\n",
      "|               0-DAY|              Canada|\n",
      "|        Jeremy Banks|              Canada|\n",
      "|            siyi wei| Toronto, ON, Canada|\n",
      "|    Michael Sheinman| Grimsby, ON, Canada|\n",
      "|               James|British Columbia,...|\n",
      "|             Mohamed| Toronto, ON, Canada|\n",
      "|             PhillyJ|Newmarket, ON, Ca...|\n",
      "|               Simon|              Canada|\n",
      "|         Judd Foster|British Columbia,...|\n",
      "|                 MPG|Mississauga, ON, ...|\n",
      "|          Tejas Alva| Toronto, ON, Canada|\n",
      "|         e.b_al-issa|              Canada|\n",
      "|               Basil|Etobicoke, Toront...|\n",
      "|     MirageCommander|Montreal, QC, Canada|\n",
      "|       Alex O'Malley|              Canada|\n",
      "|           max pinch|Quebec City, QC, ...|\n",
      "|                Sare|              Canada|\n",
      "|                Doum|Québec City, QC, ...|\n",
      "|        Alex Manuele| Halifax, NS, Canada|\n",
      "|         user8507808|              Canada|\n",
      "|        Alex Boreham| Toronto, ON, Canada|\n",
      "|          Dayne Hack|North Vancouver, ...|\n",
      "|            Lewis921|Richmond, BC, Canada|\n",
      "|                Tanu|              Canada|\n",
      "|            Ryan Fwu|4617 Erwin Road, ...|\n",
      "|            sculpter| Toronto, ON, Canada|\n",
      "|        Jason Penner|Winnipeg, MB, Canada|\n",
      "|                 Pyr|Victoria, BC, Canada|\n",
      "|              hawker| Calgary, AB, Canada|\n",
      "|             deltron| Toronto, ON, Canada|\n",
      "|    needhelpwithlife|Kamloops, BC, Canada|\n",
      "|             infused|              Canada|\n",
      "|                Alik|Montreal, QC, Canada|\n",
      "|       Nathan Yaskiw| Calgary, AB, Canada|\n",
      "|    Steve R Laminger|Winnipeg, MB, Canada|\n",
      "|            Raboush2|London, Ontario, ...|\n",
      "|             Pagasur| Toronto, ON, Canada|\n",
      "|             Dominic|    Montreal, Canada|\n",
      "|           filipes95|Hamilton, ON, Canada|\n",
      "|              Vishal| Toronto, ON, Canada|\n",
      "|               Milos|Vancouver, BC, Ca...|\n",
      "|          Imran Juma|              Canada|\n",
      "|  Johnathon Douglass|              Canada|\n",
      "|             yoyo_24|Brampton, Ontario...|\n",
      "|             r3dm1ke| Toronto, ON, Canada|\n",
      "|        Tamon Suzuki|Montréal, QC, Canada|\n",
      "|               WR123| Toronto, ON, Canada|\n",
      "|         avengers123| Toronto, ON, Canada|\n",
      "|               simmy|              Canada|\n",
      "|            J.Griff2|  Ottawa, ON, Canada|\n",
      "|                 JGF|Vancouver, BC, Ca...|\n",
      "|            vasiliyx|Vancouver, BC, Ca...|\n",
      "|               Kenge|Montreal, QC, Canada|\n",
      "|          Shiqi Zhao|Waterloo, ON, Canada|\n",
      "|           DaGallane| Toronto, ON, Canada|\n",
      "|              Willow|              Canada|\n",
      "|                Marc|Montreal, QC, Canada|\n",
      "|           Im Yoonah|              Canada|\n",
      "|             Ding Ma|Montreal, QC, Canada|\n",
      "|       drag_me_under|              Canada|\n",
      "|      Nicolas Lortie|  Québec, QC, Canada|\n",
      "|              Lelik_|Montreal, QC, Canada|\n",
      "|          Songg Tùng| Burnaby, BC, Canada|\n",
      "|                 nms| Toronto, ON, Canada|\n",
      "|      Stephen Little| Nova Scotia, Canada|\n",
      "|               dan y|              Canada|\n",
      "|          iAMspecial|Abbotsford, BC, C...|\n",
      "|                 Ali|  Ottawa, ON, Canada|\n",
      "|              Pranoy|     Ontario, Canada|\n",
      "|             Patriot|              Canada|\n",
      "|          Shomzie324| Toronto, ON, Canada|\n",
      "|      mahyar khatiri|              Canada|\n",
      "|              Nerwin|              Canada|\n",
      "|               Abbat|Fort McMurray, AB...|\n",
      "|                 Jay|Edmonton, AB, Canada|\n",
      "|             Kannkor|              Canada|\n",
      "|          Kangil Lee| Toronto, ON, Canada|\n",
      "|               Kyuzo| Calgary, AB, Canada|\n",
      "|         Jason Jiang|              Canada|\n",
      "|     Achraf Ghellach|              Canada|\n",
      "|      Eliseos Mucaki|  London, ON, Canada|\n",
      "|             TruthIZ|  Québec, QC, Canada|\n",
      "|              Zheren|              Canada|\n",
      "|         Daniel Chen|              Canada|\n",
      "|                 tom| Toronto, ON, Canada|\n",
      "|          Adam Jones|  Ottawa, ON, Canada|\n",
      "|             nhtnhan|Edmonton, AB, Canada|\n",
      "|             Maria B|              Canada|\n",
      "|              JCrowe|  Ottawa, ON, Canada|\n",
      "|           Dimitro D| Toronto, ON, Canada|\n",
      "|                Ryan|North Vancouver, ...|\n",
      "|             JHeisey| Toronto, ON, Canada|\n",
      "|              xxyyxz|              Canada|\n",
      "|           Gaming4me|              Canada|\n",
      "|    Harkeerat Kanwal|Hamilton, ON, Canada|\n",
      "|             tiescut|  Ottawa, ON, Canada|\n",
      "|      Nader Samadyan|Vancouver, BC, Ca...|\n",
      "|          Harrylujah|              Canada|\n",
      "|lord and savior g...|              Canada|\n",
      "+--------------------+--------------------+\n",
      "only showing top 100 rows\n",
      "\n"
     ]
    }
   ],
   "source": [
    "#Let us see the first 5 of our new dataframe\n",
    "country.select('display_name','location').show(100)"
   ]
  },
  {
   "cell_type": "code",
   "execution_count": 37,
   "metadata": {},
   "outputs": [
    {
     "data": {
      "text/plain": [
       "(3329, 12)"
      ]
     },
     "execution_count": 37,
     "metadata": {},
     "output_type": "execute_result"
    }
   ],
   "source": [
    "country.shape()"
   ]
  },
  {
   "cell_type": "code",
   "execution_count": 38,
   "metadata": {},
   "outputs": [],
   "source": [
    "#Extracting city and contry into new columns\n",
    "city_coun = F.split(country['location'], ',')\n",
    "country = country.withColumn('city', city_coun.getItem(0))\n",
    "country = country.withColumn('country', city_coun.getItem(2))"
   ]
  },
  {
   "cell_type": "code",
   "execution_count": 39,
   "metadata": {},
   "outputs": [
    {
     "name": "stdout",
     "output_type": "stream",
     "text": [
      "+----------------+-------+-------+\n",
      "|    display_name|   city|country|\n",
      "+----------------+-------+-------+\n",
      "|             Avi| Canada|   null|\n",
      "|           0-DAY| Canada|   null|\n",
      "|    Jeremy Banks| Canada|   null|\n",
      "|        siyi wei|Toronto| Canada|\n",
      "|Michael Sheinman|Grimsby| Canada|\n",
      "+----------------+-------+-------+\n",
      "only showing top 5 rows\n",
      "\n"
     ]
    }
   ],
   "source": [
    "#Showing results after spliting city and country. \n",
    "#NB:We'll need to refine the code so as to make location with just country appear on country column.\n",
    "country.select('display_name','city','country').show(5)"
   ]
  },
  {
   "cell_type": "code",
   "execution_count": 79,
   "metadata": {},
   "outputs": [],
   "source": [
    "#Renaming our columns which has same names as other columns from our datasets\n",
    "answers = answers.withColumnRenamed('id', 'answer_id')\n",
    "answers = answers.withColumnRenamed('created_at', 'answer_created_at')\n",
    "answers = answers.withColumnRenamed('body', 'answer_body')\n",
    "answers = answers.withColumnRenamed('score', 'answer_score')\n",
    "answers = answers.withColumnRenamed('comment_count', 'answer_comment_count')\n",
    "\n",
    "answers = answers.withColumnRenamed('answer_user_id', 'user_id')\n",
    "answers = answers.withColumnRenamed('ans_question_id', 'question_id')"
   ]
  },
  {
   "cell_type": "code",
   "execution_count": 80,
   "metadata": {},
   "outputs": [
    {
     "data": {
      "text/plain": [
       "['answer_id',\n",
       " 'user_id',\n",
       " 'question_id',\n",
       " 'answer_body',\n",
       " 'answer_score',\n",
       " 'answer_comment_count',\n",
       " 'answer_created_at']"
      ]
     },
     "execution_count": 80,
     "metadata": {},
     "output_type": "execute_result"
    }
   ],
   "source": [
    "answers.columns"
   ]
  },
  {
   "cell_type": "code",
   "execution_count": 81,
   "metadata": {},
   "outputs": [],
   "source": [
    "#Renaming our column from id to user_id\n",
    "country = country.withColumnRenamed('id', 'user_id')"
   ]
  },
  {
   "cell_type": "code",
   "execution_count": 82,
   "metadata": {},
   "outputs": [
    {
     "data": {
      "text/plain": [
       "['user_id',\n",
       " 'display_name',\n",
       " 'reputation',\n",
       " 'website_url',\n",
       " 'location',\n",
       " 'about_me',\n",
       " 'views',\n",
       " 'up_votes',\n",
       " 'down_votes',\n",
       " 'image_url',\n",
       " 'user_created_at',\n",
       " 'user_updated_at',\n",
       " 'city',\n",
       " 'country']"
      ]
     },
     "execution_count": 82,
     "metadata": {},
     "output_type": "execute_result"
    }
   ],
   "source": [
    "#Let's see our columns in our country dataframe after splitting location into city and country\n",
    "country.columns"
   ]
  },
  {
   "cell_type": "code",
   "execution_count": 83,
   "metadata": {},
   "outputs": [
    {
     "data": {
      "text/plain": [
       "['question_id',\n",
       " 'user_id',\n",
       " 'title',\n",
       " 'question_body',\n",
       " 'accepted_answer_id',\n",
       " 'question_score',\n",
       " 'view_count',\n",
       " 'comment_count',\n",
       " 'question_created_at']"
      ]
     },
     "execution_count": 83,
     "metadata": {},
     "output_type": "execute_result"
    }
   ],
   "source": [
    "#Let's see the columns we have in our questions dataset\n",
    "questions.columns"
   ]
  },
  {
   "cell_type": "code",
   "execution_count": 84,
   "metadata": {},
   "outputs": [],
   "source": [
    "#Noticing that some columns have names similar to the ones in users dataframe, we have to rename them.\n",
    "questions = questions.withColumnRenamed('id','question_id')\n",
    "questions = questions.withColumnRenamed('created_at', 'question_created_at')\n",
    "questions = questions.withColumnRenamed('body', 'question_body')\n",
    "questions = questions.withColumnRenamed('score', 'question_score')\n",
    "questions = questions.withColumnRenamed('question_comment_count', 'comment_count')"
   ]
  },
  {
   "cell_type": "code",
   "execution_count": 85,
   "metadata": {},
   "outputs": [
    {
     "data": {
      "text/plain": [
       "['question_id',\n",
       " 'user_id',\n",
       " 'title',\n",
       " 'question_body',\n",
       " 'accepted_answer_id',\n",
       " 'question_score',\n",
       " 'view_count',\n",
       " 'comment_count',\n",
       " 'question_created_at']"
      ]
     },
     "execution_count": 85,
     "metadata": {},
     "output_type": "execute_result"
    }
   ],
   "source": [
    "#Let's confirm if our rename was successful\n",
    "questions.columns"
   ]
  },
  {
   "cell_type": "code",
   "execution_count": 86,
   "metadata": {},
   "outputs": [
    {
     "data": {
      "text/plain": [
       "['user_id',\n",
       " 'display_name',\n",
       " 'reputation',\n",
       " 'website_url',\n",
       " 'location',\n",
       " 'about_me',\n",
       " 'views',\n",
       " 'up_votes',\n",
       " 'down_votes',\n",
       " 'image_url',\n",
       " 'user_created_at',\n",
       " 'user_updated_at',\n",
       " 'city',\n",
       " 'country',\n",
       " 'question_id',\n",
       " 'title',\n",
       " 'question_body',\n",
       " 'accepted_answer_id',\n",
       " 'question_score',\n",
       " 'view_count',\n",
       " 'comment_count',\n",
       " 'question_created_at']"
      ]
     },
     "execution_count": 86,
     "metadata": {},
     "output_type": "execute_result"
    }
   ],
   "source": [
    "#An inner join of users in Canada and questions dataframe.\n",
    "users_country = country.join(questions, on='user_id', how='left')\n",
    "users_country.columns"
   ]
  },
  {
   "cell_type": "code",
   "execution_count": 87,
   "metadata": {},
   "outputs": [],
   "source": [
    "#Let's pick questions with at least 20 view counts.\n",
    "users_country = users_country.filter(users_country['view_count'] >= 20)"
   ]
  },
  {
   "cell_type": "code",
   "execution_count": 94,
   "metadata": {
    "scrolled": true
   },
   "outputs": [
    {
     "data": {
      "text/plain": [
       "['question_id',\n",
       " 'user_id',\n",
       " 'display_name',\n",
       " 'reputation',\n",
       " 'website_url',\n",
       " 'location',\n",
       " 'about_me',\n",
       " 'views',\n",
       " 'up_votes',\n",
       " 'down_votes',\n",
       " 'image_url',\n",
       " 'user_created_at',\n",
       " 'user_updated_at',\n",
       " 'city',\n",
       " 'country',\n",
       " 'title',\n",
       " 'question_body',\n",
       " 'accepted_answer_id',\n",
       " 'question_score',\n",
       " 'view_count',\n",
       " 'comment_count',\n",
       " 'question_created_at',\n",
       " 'answer_id',\n",
       " 'answer_body',\n",
       " 'answer_score',\n",
       " 'answer_comment_count',\n",
       " 'answer_created_at',\n",
       " 'answer_id',\n",
       " 'answer_body',\n",
       " 'answer_score',\n",
       " 'answer_comment_count',\n",
       " 'answer_created_at',\n",
       " 'answer_id',\n",
       " 'answer_body',\n",
       " 'answer_score',\n",
       " 'answer_comment_count',\n",
       " 'answer_created_at']"
      ]
     },
     "execution_count": 94,
     "metadata": {},
     "output_type": "execute_result"
    }
   ],
   "source": [
    "#Final task is to join our resultant table to the answers dataframe.\n",
    "users_country = users_country.join(answers, on=['question_id','user_id'], how='left')\n",
    "users_country.columns"
   ]
  },
  {
   "cell_type": "markdown",
   "metadata": {},
   "source": [
    "### Step3: Data Loading"
   ]
  },
  {
   "cell_type": "code",
   "execution_count": 1,
   "metadata": {},
   "outputs": [],
   "source": [
    "#After creating our schema and table in sql. we now write our data from users_ques_ans dataframe into the table.\n",
    "#Let's use spark to write the results into this table\n",
    "users_country.write.format('jdbc').options(\n",
    "    url='jdbc:postgresql://localhost:5432/postgres',\n",
    "    driver ='org.postgresql.Driver',\n",
    "    user = 'postgres',\n",
    "    password = 'postgres1234',\n",
    "    dbtable = 'stackoverflow_filtered.results'\n",
    ").save(mode='append')"
   ]
  },
  {
   "cell_type": "code",
   "execution_count": null,
   "metadata": {},
   "outputs": [],
   "source": []
  },
  {
   "cell_type": "code",
   "execution_count": null,
   "metadata": {},
   "outputs": [],
   "source": []
  }
 ],
 "metadata": {
  "kernelspec": {
   "display_name": "Python 3",
   "language": "python",
   "name": "python3"
  },
  "language_info": {
   "codemirror_mode": {
    "name": "ipython",
    "version": 3
   },
   "file_extension": ".py",
   "mimetype": "text/x-python",
   "name": "python",
   "nbconvert_exporter": "python",
   "pygments_lexer": "ipython3",
   "version": "3.6.8"
  }
 },
 "nbformat": 4,
 "nbformat_minor": 2
}
