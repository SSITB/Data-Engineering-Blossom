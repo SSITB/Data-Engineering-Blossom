{
 "cells": [
  {
   "cell_type": "code",
   "execution_count": 1,
   "metadata": {},
   "outputs": [],
   "source": [
    "import pyspark\n",
    "from pyspark.sql.types import BooleanType\n",
    "from pyspark.sql.functions import udf\n",
    "from pyspark.sql import functions as F\n",
    "from pyspark.sql import SparkSession\n",
    "from pyspark.sql import Window"
   ]
  },
  {
   "cell_type": "code",
   "execution_count": 2,
   "metadata": {},
   "outputs": [],
   "source": [
    "#Let us create our spark session\n",
    "spark = (\n",
    "    SparkSession.builder\n",
    "        .appName(\"Stack Overflow Data Wrangling\")\n",
    "        .config(\"spark.jars\", \"../jars/postgresql-42.2.8.jar\")\n",
    "        .getOrCreate()\n",
    ")"
   ]
  },
  {
   "cell_type": "code",
   "execution_count": 5,
   "metadata": {},
   "outputs": [],
   "source": [
    "#Now let's load all the datasets we'll be using.\n",
    "answers = spark.read.csv(\"stackoverflow/answers.csv\", header=True, inferSchema=True, multiLine=True)\n",
    "questions = spark.read.csv(\"stackoverflow/questions.csv\",header=True, inferSchema=True, multiLine=True)\n",
    "users = spark.read.csv(\"stackoverflow/users.csv\",header=True, inferSchema=True, multiLine=True)\n",
    "questiontags = spark.read.csv(\"stackoverflow/question_tags.csv\", header=True, inferSchema=True, multiLine=True)"
   ]
  },
  {
   "cell_type": "code",
   "execution_count": 10,
   "metadata": {},
   "outputs": [],
   "source": [
    "#Function to know the shape of our dataframes\n",
    "def spark_shape(self):\n",
    "    return(self.count(), len(self.columns))\n",
    "pyspark.sql.dataframe.DataFrame.shape = spark_shape"
   ]
  },
  {
   "cell_type": "code",
   "execution_count": 13,
   "metadata": {},
   "outputs": [
    {
     "data": {
      "text/plain": [
       "(9367215, 7)"
      ]
     },
     "execution_count": 13,
     "metadata": {},
     "output_type": "execute_result"
    }
   ],
   "source": [
    "#Let's see the total number of rows and columns\n",
    "answers.shape()"
   ]
  },
  {
   "cell_type": "code",
   "execution_count": 14,
   "metadata": {},
   "outputs": [
    {
     "data": {
      "text/plain": [
       "(6773193, 9)"
      ]
     },
     "execution_count": 14,
     "metadata": {},
     "output_type": "execute_result"
    }
   ],
   "source": [
    "#Let's see the shape of questions dataframe\n",
    "questions.shape()"
   ]
  },
  {
   "cell_type": "code",
   "execution_count": 15,
   "metadata": {},
   "outputs": [
    {
     "data": {
      "text/plain": [
       "(273489, 12)"
      ]
     },
     "execution_count": 15,
     "metadata": {},
     "output_type": "execute_result"
    }
   ],
   "source": [
    "#Let's see shape of users\n",
    "users.shape()"
   ]
  },
  {
   "cell_type": "code",
   "execution_count": 16,
   "metadata": {},
   "outputs": [
    {
     "data": {
      "text/plain": [
       "(633700, 2)"
      ]
     },
     "execution_count": 16,
     "metadata": {},
     "output_type": "execute_result"
    }
   ],
   "source": [
    "#Let's also see the shape of question_tags\n",
    "questiontags.shape()"
   ]
  },
  {
   "cell_type": "code",
   "execution_count": 18,
   "metadata": {},
   "outputs": [
    {
     "data": {
      "text/plain": [
       "['id',\n",
       " 'display_name',\n",
       " 'reputation',\n",
       " 'website_url',\n",
       " 'location',\n",
       " 'about_me',\n",
       " 'views',\n",
       " 'up_votes',\n",
       " 'down_votes',\n",
       " 'image_url',\n",
       " 'created_at',\n",
       " 'updated_at']"
      ]
     },
     "execution_count": 18,
     "metadata": {},
     "output_type": "execute_result"
    }
   ],
   "source": [
    "#Overview of the columns in users dataframe\n",
    "users.columns"
   ]
  },
  {
   "cell_type": "code",
   "execution_count": 21,
   "metadata": {},
   "outputs": [
    {
     "name": "stdout",
     "output_type": "stream",
     "text": [
      "Total Records of Users = 273489\n",
      "+-------+------------+----------+--------------------+--------------------+--------+-----+--------+----------+--------------------+-------------------+-------------------+\n",
      "|     id|display_name|reputation|         website_url|            location|about_me|views|up_votes|down_votes|           image_url|         created_at|         updated_at|\n",
      "+-------+------------+----------+--------------------+--------------------+--------+-----+--------+----------+--------------------+-------------------+-------------------+\n",
      "|8357266|      suryan|         7|https://twitter.c...|Bangalore, Karnat...|    null|    8|       0|         0|https://www.grava...|2017-07-24 10:55:23|2019-06-19 05:00:16|\n",
      "|2602456|         Avi|         1|https://avtechtoo...|              Canada|    null|    0|       0|         0|                null|2013-07-20 15:10:25|2019-07-08 20:43:40|\n",
      "+-------+------------+----------+--------------------+--------------------+--------+-----+--------+----------+--------------------+-------------------+-------------------+\n",
      "only showing top 2 rows\n",
      "\n"
     ]
    }
   ],
   "source": [
    "print('Total Records of Users = {}'.format(users.count()))\n",
    "users.show(2)"
   ]
  },
  {
   "cell_type": "code",
   "execution_count": 22,
   "metadata": {},
   "outputs": [
    {
     "name": "stdout",
     "output_type": "stream",
     "text": [
      "+--------------------+-----+\n",
      "|            location|count|\n",
      "+--------------------+-----+\n",
      "|  Nowshera, Pakistan|    1|\n",
      "|           Bangalore|  165|\n",
      "|San Francisco Bay...|   18|\n",
      "|Eden Prairie, MN,...|    4|\n",
      "|     Beograd, Serbia|    4|\n",
      "|Cluj-Napoca, Cluj...|   33|\n",
      "|Montreal, Quebec,...|    2|\n",
      "|                Utah|   46|\n",
      "| Aalsmeer, Nederland|    1|\n",
      "|    Tlemcen, Algérie|    2|\n",
      "|Tirupur, Tamil Na...|    4|\n",
      "|São Gonçalo, RJ, ...|    1|\n",
      "|       Suzhou, China|    3|\n",
      "|Izmir, İzmir, Turkey|   11|\n",
      "| Bayern, Deutschland|   16|\n",
      "|       Toruń, Polska|    4|\n",
      "|Newtown, Kolkata,...|    1|\n",
      "|  Verona, VR, Italia|   19|\n",
      "|Santa Marta, Magd...|    1|\n",
      "|           kathmandu|    5|\n",
      "+--------------------+-----+\n",
      "only showing top 20 rows\n",
      "\n",
      "None\n"
     ]
    }
   ],
   "source": [
    "#Let's see the distinct countries we have.\n",
    "countries = users.groupBy('location').count()\n",
    "print(countries.show())"
   ]
  },
  {
   "cell_type": "code",
   "execution_count": 33,
   "metadata": {},
   "outputs": [
    {
     "name": "stdout",
     "output_type": "stream",
     "text": [
      "+------------------+--------------------+\n",
      "|      display_name|            location|\n",
      "+------------------+--------------------+\n",
      "|            suryan|Bangalore, Karnat...|\n",
      "|               Avi|              Canada|\n",
      "|              Matt|Pennsylvania, Uni...|\n",
      "|          Wing Fan|                null|\n",
      "|             A.Raw|New Delhi, Delhi,...|\n",
      "|           Ringo64|                null|\n",
      "|Hirotaka Nishimiya|          日本 Tōkyō|\n",
      "|           Anuroop|                null|\n",
      "|      Franco Buhay|                null|\n",
      "|     Kartik Juneja|Gharaunda, Haryan...|\n",
      "+------------------+--------------------+\n",
      "only showing top 10 rows\n",
      "\n"
     ]
    }
   ],
   "source": [
    "users.select('display_name', 'location').show(10)"
   ]
  },
  {
   "cell_type": "code",
   "execution_count": 54,
   "metadata": {},
   "outputs": [],
   "source": [
    "#Let's store users coming from Canada in a new dataframe called country\n",
    "country = users.where(users.location.contains('Canada'))"
   ]
  },
  {
   "cell_type": "code",
   "execution_count": 51,
   "metadata": {},
   "outputs": [
    {
     "name": "stdout",
     "output_type": "stream",
     "text": [
      "+----------------+-------------------+\n",
      "|    display_name|           location|\n",
      "+----------------+-------------------+\n",
      "|             Avi|             Canada|\n",
      "|           0-DAY|             Canada|\n",
      "|    Jeremy Banks|             Canada|\n",
      "|        siyi wei|Toronto, ON, Canada|\n",
      "|Michael Sheinman|Grimsby, ON, Canada|\n",
      "+----------------+-------------------+\n",
      "only showing top 5 rows\n",
      "\n"
     ]
    }
   ],
   "source": [
    "#Let us see the first 5 of our new dataframe\n",
    "country.select('display_name','location').show(5)"
   ]
  },
  {
   "cell_type": "code",
   "execution_count": 53,
   "metadata": {},
   "outputs": [
    {
     "data": {
      "text/plain": [
       "(3329, 12)"
      ]
     },
     "execution_count": 53,
     "metadata": {},
     "output_type": "execute_result"
    }
   ],
   "source": [
    "country.shape()"
   ]
  },
  {
   "cell_type": "code",
   "execution_count": null,
   "metadata": {},
   "outputs": [],
   "source": []
  },
  {
   "cell_type": "code",
   "execution_count": null,
   "metadata": {},
   "outputs": [],
   "source": []
  }
 ],
 "metadata": {
  "kernelspec": {
   "display_name": "Python 3",
   "language": "python",
   "name": "python3"
  },
  "language_info": {
   "codemirror_mode": {
    "name": "ipython",
    "version": 3
   },
   "file_extension": ".py",
   "mimetype": "text/x-python",
   "name": "python",
   "nbconvert_exporter": "python",
   "pygments_lexer": "ipython3",
   "version": "3.6.8"
  }
 },
 "nbformat": 4,
 "nbformat_minor": 2
}
