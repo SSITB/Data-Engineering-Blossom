{
 "cells": [
  {
   "cell_type": "code",
   "execution_count": 1,
   "metadata": {},
   "outputs": [],
   "source": [
    "import os\n",
    "import pyspark\n",
    "import boto3\n",
    "from pyspark.sql.types import BooleanType\n",
    "from pyspark.sql.functions import udf\n",
    "from pyspark.sql import functions as F\n",
    "from pyspark.sql import SparkSession\n",
    "from pyspark.sql import Window\n",
    "from pyspark import SparkContext"
   ]
  },
  {
   "cell_type": "code",
   "execution_count": 2,
   "metadata": {
    "scrolled": true
   },
   "outputs": [],
   "source": [
    "#create spark session\n",
    "spark = SparkSession.builder.getOrCreate()"
   ]
  },
  {
   "cell_type": "code",
   "execution_count": 3,
   "metadata": {},
   "outputs": [],
   "source": [
    "#Initializing s3 resource\n",
    "s3 = boto3.client('s3')"
   ]
  },
  {
   "cell_type": "code",
   "execution_count": 11,
   "metadata": {},
   "outputs": [],
   "source": [
    "#Downloading data from bucket \n",
    "s3.download_file('blossom-data-engs','all-us-stocks-tickers-company-info-logos.zip', 'all-us-data.zip')\n",
    "s3.download_file('blossom-data-engs', 'data-scientist-job-market-in-the-us.zip', 'all-data-science.zip')"
   ]
  },
  {
   "cell_type": "code",
   "execution_count": 4,
   "metadata": {},
   "outputs": [],
   "source": [
    "#Using spark to read our data.\n",
    "companies = spark.read.csv('companies.csv', header=True, inferSchema=True, multiLine=True)\n",
    "alldata = spark.read.csv('alldata.csv', header=True, inferSchema=True, multiLine=True)"
   ]
  },
  {
   "cell_type": "code",
   "execution_count": 6,
   "metadata": {
    "scrolled": false
   },
   "outputs": [
    {
     "data": {
      "text/plain": [
       "6512"
      ]
     },
     "execution_count": 6,
     "metadata": {},
     "output_type": "execute_result"
    }
   ],
   "source": [
    "companies.count()"
   ]
  },
  {
   "cell_type": "code",
   "execution_count": 7,
   "metadata": {},
   "outputs": [
    {
     "data": {
      "text/plain": [
       "13513"
      ]
     },
     "execution_count": 7,
     "metadata": {},
     "output_type": "execute_result"
    }
   ],
   "source": [
    "alldata.count()"
   ]
  },
  {
   "cell_type": "code",
   "execution_count": 10,
   "metadata": {},
   "outputs": [
    {
     "name": "stdout",
     "output_type": "stream",
     "text": [
      "+------+--------------------+----------+--------------------+--------------------+--------------------+------+--------------------+--------------------+-----------+---------------+---------------+--------------------+--------------------+\n",
      "|ticker|        company name|short name|            industry|         description|             website|  logo|                 ceo|            exchange| market cap|         sector|          tag 1|               tag 2|              tag 3\r",
      "|\n",
      "+------+--------------------+----------+--------------------+--------------------+--------------------+------+--------------------+--------------------+-----------+---------------+---------------+--------------------+--------------------+\n",
      "|     A|Agilent Technolog...|   Agilent|Medical Diagnosti...|Agilent Technolog...|http://www.agilen...| A.png| Michael R. McMullen|New York Stock Ex...|24218068096|     Healthcare|     Healthcare|Diagnostics & Res...|Medical Diagnosti...|\n",
      "|    AA|   Alcoa Corporation|     Alcoa|     Metals & Mining|Alcoa Corp is an ...|http://www.alcoa.com|AA.png|Roy Christopher H...|New York Stock Ex...| 5374966543|Basic Materials|Basic Materials|            Aluminum|    Metals & Mining\r",
      "|\n",
      "+------+--------------------+----------+--------------------+--------------------+--------------------+------+--------------------+--------------------+-----------+---------------+---------------+--------------------+--------------------+\n",
      "only showing top 2 rows\n",
      "\n"
     ]
    }
   ],
   "source": [
    "companies.show(2)"
   ]
  },
  {
   "cell_type": "code",
   "execution_count": 11,
   "metadata": {},
   "outputs": [
    {
     "name": "stdout",
     "output_type": "stream",
     "text": [
      "+--------------------+------------------+--------------------+-------+------------------+\n",
      "|            position|           company|         description|reviews|         location\r",
      "|\n",
      "+--------------------+------------------+--------------------+-------+------------------+\n",
      "|Development Director|           ALS TDI|Development Direc...|   null|Atlanta, GA 30301 |\n",
      "|An Ostentatiously...|The Hexagon Lavish|\"Job Description\n",
      "...|   null|              null|\n",
      "+--------------------+------------------+--------------------+-------+------------------+\n",
      "only showing top 2 rows\n",
      "\n"
     ]
    }
   ],
   "source": [
    "alldata.show(2)"
   ]
  },
  {
   "cell_type": "code",
   "execution_count": 12,
   "metadata": {},
   "outputs": [],
   "source": [
    "#Renaming 'description' column for both dataframes since it appears in both and we want to merge.\n",
    "companies = companies.withColumnRenamed('description', 'company_description')\n",
    "alldata = alldata.withColumnRenamed('description', 'job_description')"
   ]
  },
  {
   "cell_type": "code",
   "execution_count": 13,
   "metadata": {},
   "outputs": [],
   "source": [
    "#Merging Companies and AllData with an inner join.\n",
    "merged_data =companies.join(alldata, alldata['company'] == companies['company name'])"
   ]
  },
  {
   "cell_type": "code",
   "execution_count": 14,
   "metadata": {},
   "outputs": [
    {
     "name": "stdout",
     "output_type": "stream",
     "text": [
      "+------+-------------------+-------------------+--------------------+--------------------+--------------------+----+-------------------+--------------------+-----------+------------------+------------------+-------------------+--------------------+--------------------+-------------------+--------------------+-------+----------+\n",
      "|ticker|       company name|         short name|            industry| company_description|             website|logo|                ceo|            exchange| market cap|            sector|             tag 1|              tag 2|              tag 3\r",
      "|            position|            company|     job_description|reviews| location\r",
      "|\n",
      "+------+-------------------+-------------------+--------------------+--------------------+--------------------+----+-------------------+--------------------+-----------+------------------+------------------+-------------------+--------------------+--------------------+-------------------+--------------------+-------+----------+\n",
      "|   CUB|  Cubic Corporation|              Cubic| Aerospace & Defense|Cubic Corp caters...|http://www.cubic.com|null|Bradley H. Feldmann|New York Stock Ex...| 2028937023|       Industrials|       Industrials|Aerospace & Defense|                   \r",
      "|Data Scientist -T...|  Cubic Corporation|Job Summary:\n",
      "\n",
      "As ...|    358|Austin, TX|\n",
      "|   HSY|The Hershey Company|The Hershey Company|Consumer Packaged...|The Hershey Co op...|http://www.theher...|null|    Michele G. Buck|New York Stock Ex...|22182977425|Consumer Defensive|Consumer Defensive|      Confectioners|Consumer Packaged...|      Food Scientist|The Hershey Company|Job Title: Food S...|    694|Austin, TX|\n",
      "+------+-------------------+-------------------+--------------------+--------------------+--------------------+----+-------------------+--------------------+-----------+------------------+------------------+-------------------+--------------------+--------------------+-------------------+--------------------+-------+----------+\n",
      "only showing top 2 rows\n",
      "\n"
     ]
    }
   ],
   "source": [
    "merged_data.show(2)"
   ]
  },
  {
   "cell_type": "code",
   "execution_count": 24,
   "metadata": {},
   "outputs": [],
   "source": [
    "merged_data = merged_data.withColumnRenamed('location\\r', 'location')\n",
    "alldata = alldata.withColumnRenamed('location\\r', 'location')"
   ]
  },
  {
   "cell_type": "code",
   "execution_count": 27,
   "metadata": {},
   "outputs": [],
   "source": [
    "#Extracting city from location column.\n",
    "merged_data = merged_data.select('*', F.split(merged_data['location'], ',')[0].alias('city'))"
   ]
  },
  {
   "cell_type": "code",
   "execution_count": 28,
   "metadata": {},
   "outputs": [],
   "source": [
    "#Import NGRAM and Tokenizer to be used to generate ngrams\n",
    "from pyspark.ml.feature import NGram, Tokenizer"
   ]
  },
  {
   "cell_type": "code",
   "execution_count": 31,
   "metadata": {},
   "outputs": [],
   "source": [
    "#Function to generate ngram(s) from a particular column in a dataframe\n",
    "\n",
    "def create_ngram(df, col):\n",
    "    #Generate tokens as a new column on the dataframe given as a parameter\n",
    "    tokens = Tokenizer(inputCol = col, outputCol = 'tokens')\n",
    "    \n",
    "    #Apply the tokenizer on the dataframe\n",
    "    new_df = tokens.transform(df)\n",
    "    \n",
    "    #Generating an NGRAM column where n = 2 in this example\n",
    "    ngram = NGram(n = 2, inputCol = 'tokens', outputCol = 'ngrams')\n",
    "    \n",
    "    #Apply the ngram on the dataframe\n",
    "    new_df = ngram.transform(new_df) \n",
    "    \n",
    "    return new_df"
   ]
  },
  {
   "cell_type": "code",
   "execution_count": 32,
   "metadata": {},
   "outputs": [],
   "source": [
    "#Calling our function on the merged_data and using 'company_description' as column\n",
    "new_data = create_ngram(merged_data, 'company_description')"
   ]
  },
  {
   "cell_type": "code",
   "execution_count": 34,
   "metadata": {},
   "outputs": [
    {
     "name": "stdout",
     "output_type": "stream",
     "text": [
      "+----------+------+--------------------+\n",
      "|  location|  city|              ngrams|\n",
      "+----------+------+--------------------+\n",
      "|Austin, TX|Austin|[cubic corp, corp...|\n",
      "|Austin, TX|Austin|[the hershey, her...|\n",
      "|Austin, TX|Austin|[abbott laborator...|\n",
      "+----------+------+--------------------+\n",
      "only showing top 3 rows\n",
      "\n"
     ]
    }
   ],
   "source": [
    "#Let's see the results after the function has been applied.\n",
    "new_data.select(['location', 'city', 'ngrams']).show(3)"
   ]
  },
  {
   "cell_type": "code",
   "execution_count": 35,
   "metadata": {},
   "outputs": [],
   "source": [
    "#Creating a function to implement frequency count on a given column in a dataframe object.\n",
    "\n",
    "def create_freq_df(df, col):\n",
    "    #Exploding the ngrams columns to count each ngram generated on a column\n",
    "    freq_count = df.select(col, F.explode('ngrams').alias('ngrams')).groupby([col, 'ngrams']).count()\n",
    "    \n",
    "    #Changing the column name from 'count' (which is default) to frequency\n",
    "    freq_count = freq_count.withColumnRenamed('count', 'frequency')\n",
    "    \n",
    "    #Ordering count in descending order.\n",
    "    freq_count = freq_count.orderBy(freq_count['frequency'].desc())\n",
    "    \n",
    "    return freq_count"
   ]
  },
  {
   "cell_type": "code",
   "execution_count": 37,
   "metadata": {},
   "outputs": [],
   "source": [
    "#Calling our frequency function on the industry column \n",
    "industry_freq_df = create_freq_df(new_data, 'industry')"
   ]
  },
  {
   "cell_type": "code",
   "execution_count": 43,
   "metadata": {},
   "outputs": [
    {
     "name": "stdout",
     "output_type": "stream",
     "text": [
      "+------------------+--------------------+---------+\n",
      "|          industry|              ngrams|frequency|\n",
      "+------------------+--------------------+---------+\n",
      "|     Biotechnology|                is a|       52|\n",
      "|Drug Manufacturers|        and vaccines|       47|\n",
      "|     Biotechnology|             corp is|       42|\n",
      "|     Biotechnology|            to treat|       41|\n",
      "|     Biotechnology|  and commercializes|       36|\n",
      "|     Biotechnology|    istodax, otezla,|       34|\n",
      "|     Biotechnology|      its registered|       34|\n",
      "|     Biotechnology|   registered brands|       34|\n",
      "|     Biotechnology| pomalyst, revlimid,|       34|\n",
      "|     Biotechnology|         designed to|       34|\n",
      "|     Biotechnology|  abraxane, istodax,|       34|\n",
      "|     Biotechnology|        celgene corp|       34|\n",
      "|     Biotechnology|discovers, develops,|       34|\n",
      "|     Biotechnology|        treat cancer|       34|\n",
      "|     Biotechnology|and immune-inflam...|       34|\n",
      "|     Biotechnology|        company that|       34|\n",
      "|     Biotechnology|       diseases. its|       34|\n",
      "|     Biotechnology|          cancer and|       34|\n",
      "|     Biotechnology| revlimid, thalomid,|       34|\n",
      "|     Biotechnology|     that discovers,|       34|\n",
      "+------------------+--------------------+---------+\n",
      "only showing top 20 rows\n",
      "\n"
     ]
    }
   ],
   "source": [
    "#Let's see the results of the above\n",
    "industry_freq_df.show()"
   ]
  },
  {
   "cell_type": "code",
   "execution_count": 38,
   "metadata": {},
   "outputs": [],
   "source": [
    "#Calling our frequency function on city columns\n",
    "city_freq_df = create_freq_df(new_data, 'city')"
   ]
  },
  {
   "cell_type": "code",
   "execution_count": 42,
   "metadata": {},
   "outputs": [
    {
     "name": "stdout",
     "output_type": "stream",
     "text": [
      "+---------+--------------------+---------+\n",
      "|     city|              ngrams|frequency|\n",
      "+---------+--------------------+---------+\n",
      "|Cambridge|        and vaccines|       43|\n",
      "|Cambridge|              in the|       28|\n",
      "|Cambridge|                is a|       28|\n",
      "|Cambridge|          engaged in|       28|\n",
      "|Cambridge|research, develop...|       27|\n",
      "+---------+--------------------+---------+\n",
      "only showing top 5 rows\n",
      "\n"
     ]
    }
   ],
   "source": [
    "#Let's see the result of the above as well\n",
    "city_freq_df.show(5)"
   ]
  },
  {
   "cell_type": "code",
   "execution_count": null,
   "metadata": {},
   "outputs": [],
   "source": []
  }
 ],
 "metadata": {
  "kernelspec": {
   "display_name": "Python 3",
   "language": "python",
   "name": "python3"
  },
  "language_info": {
   "codemirror_mode": {
    "name": "ipython",
    "version": 3
   },
   "file_extension": ".py",
   "mimetype": "text/x-python",
   "name": "python",
   "nbconvert_exporter": "python",
   "pygments_lexer": "ipython3",
   "version": "3.6.8"
  }
 },
 "nbformat": 4,
 "nbformat_minor": 2
}
