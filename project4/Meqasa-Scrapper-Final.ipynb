{
 "cells": [
  {
   "cell_type": "code",
   "execution_count": 1,
   "metadata": {},
   "outputs": [],
   "source": [
    "import re\n",
    "import datetime\n",
    "import requests\n",
    "import pandas as pd\n",
    "from bs4 import BeautifulSoup"
   ]
  },
  {
   "cell_type": "code",
   "execution_count": 7,
   "metadata": {},
   "outputs": [],
   "source": [
    "#Download data from webpage.\n",
    "meqasa = requests.get(\"https://meqasa.com/properties-for-sale-in-ghana\")\n",
    "meqasa.status_code\n",
    "\n",
    "#Store the page with the parser in a soup\n",
    "soup = BeautifulSoup(meqasa.content,'lxml')"
   ]
  },
  {
   "cell_type": "code",
   "execution_count": 8,
   "metadata": {},
   "outputs": [],
   "source": [
    "#Finding each property and link and store information.\n",
    "props_link = soup.find_all('div', {'class': 'row mqs-featured-prop-inner-wrap clickable'})\n",
    "\n",
    "#Store the home url \n",
    "home_url = \"https://meqasa.com\"\n",
    "\n",
    "#Store all links in a list.\n",
    "props_list_links= []\n",
    "for link in props_link:\n",
    "    props_list_links.append(link)"
   ]
  },
  {
   "cell_type": "markdown",
   "metadata": {},
   "source": [
    "### Get Information From The Property Page"
   ]
  },
  {
   "cell_type": "code",
   "execution_count": 209,
   "metadata": {},
   "outputs": [],
   "source": [
    "def property_info(props_list_links):\n",
    "    prop_names = []  #Name of Property\n",
    "    bed_num = []    #Number of Beds\n",
    "    shower_num = [] #Number of Showers\n",
    "    garage_num = [] #Number of Garages\n",
    "    area_sq = []    #Area in Meters Squared\n",
    "    prop_desc = []  #Description of Property\n",
    "    price = []      #Price of Property\n",
    "    currency = []   #Currency \n",
    "    urls = []        #URL to Property\n",
    "    address = []    #Address of Property\n",
    "    time_posted = []#Datetime Property was posted\n",
    "    \n",
    "    \n",
    "                \n",
    "        \n",
    "        \n",
    "    for link in props_list_links:\n",
    "        prop_name = (link.find('div', {'class':'mqs-prop-dt-wrapper'}).find('h2').text).strip()\n",
    "        beds =  (link.find('li', {'class': 'bed'}).text).strip()\n",
    "        showers = isEmpty((link.find('li', {'class': 'shower'})))\n",
    "        garages = isEmpty((link.find('li', {'class': 'garage'})))\n",
    "        area = isEmpty((link.find('li', {'class': 'area'})))\n",
    "        url = home_url + link.find('a').attrs['href']\n",
    "        \n",
    "        #curr_item = requests.get(url)\n",
    "        #curr_soup = BeautifulSoup(curr_item.content,'lxml')\n",
    "        #get_desc = curr_soup.find('div', {'class': 'bottom-one-column-details'})\n",
    "        #desc = curr_soup.find('div', {'class': 'description'}).text\n",
    "\n",
    "        \n",
    "        prop_names.append(prop_name)\n",
    "        bed_num.append(beds)\n",
    "        shower_num.append(showers)\n",
    "        garage_num.append(garages)\n",
    "        area_sq.append(area)\n",
    "        urls.append(url)\n",
    "        #prop_desc.append(desc)\n",
    "        #time_posted.append(updated_time)\n",
    "    \n",
    "        \n",
    "    print(\"Prop Names:\", len(prop_names))\n",
    "    print(\"Beds:\", len(bed_num))\n",
    "    print(\"Showers:\", len(shower_num))\n",
    "    print(\"Garages:\", len(garage_num))\n",
    "    print(\"Area:\", len(area_sq))\n",
    "    print(\"URL:\", len(urls))\n",
    "    #print(\"Description\", len(prop_desc))\n",
    "    #print(urls[0])\n",
    "    \n",
    "    #Let's store our data in a pandas dataframe\n",
    "    df_properties = pd.DataFrame({'Property Name': prop_names,\n",
    "                                 'Number of Beds': bed_num,\n",
    "                                 'Number of Showrs': shower_num,\n",
    "                                 'Number of Garages':garage_num,\n",
    "                                 })\n",
    "\n",
    "#A function to handle if any attribute of the property isNone.\n",
    "def isEmpty(link):\n",
    "    if link is None:\n",
    "        return 0\n",
    "    else:\n",
    "        return link.text.strip()\n",
    "\n",
    "\n",
    "    \n",
    "    "
   ]
  },
  {
   "cell_type": "code",
   "execution_count": null,
   "metadata": {},
   "outputs": [],
   "source": []
  },
  {
   "cell_type": "code",
   "execution_count": null,
   "metadata": {},
   "outputs": [],
   "source": []
  },
  {
   "cell_type": "code",
   "execution_count": 210,
   "metadata": {
    "scrolled": true
   },
   "outputs": [
    {
     "name": "stdout",
     "output_type": "stream",
     "text": [
      "Prop Names: 132\n",
      "Beds: 132\n",
      "Showers: 132\n",
      "Garages: 132\n",
      "Area: 132\n",
      "URL: 132\n"
     ]
    }
   ],
   "source": [
    "property_info(props_list_links) "
   ]
  },
  {
   "cell_type": "code",
   "execution_count": null,
   "metadata": {},
   "outputs": [],
   "source": []
  },
  {
   "cell_type": "code",
   "execution_count": null,
   "metadata": {},
   "outputs": [],
   "source": []
  },
  {
   "cell_type": "code",
   "execution_count": null,
   "metadata": {},
   "outputs": [],
   "source": []
  },
  {
   "cell_type": "code",
   "execution_count": null,
   "metadata": {},
   "outputs": [],
   "source": []
  }
 ],
 "metadata": {
  "kernelspec": {
   "display_name": "Python 3",
   "language": "python",
   "name": "python3"
  },
  "language_info": {
   "codemirror_mode": {
    "name": "ipython",
    "version": 3
   },
   "file_extension": ".py",
   "mimetype": "text/x-python",
   "name": "python",
   "nbconvert_exporter": "python",
   "pygments_lexer": "ipython3",
   "version": "3.6.8"
  }
 },
 "nbformat": 4,
 "nbformat_minor": 2
}
